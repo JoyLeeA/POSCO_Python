{
 "cells": [
  {
   "cell_type": "markdown",
   "metadata": {},
   "source": [
    "## 2020/01/15 Wednes"
   ]
  },
  {
   "cell_type": "markdown",
   "metadata": {},
   "source": [
    "### 디폴트 매개변수\n",
    "    매개 변수의 기본값을 지정해줄 수 있다.\n",
    "    앞 매개변수가 디폴트 값을 가지면, 뒤에 나타나는 모든 매개변수는 디폴트 값을 가져야된다."
   ]
  },
  {
   "cell_type": "markdown",
   "metadata": {},
   "source": [
    "# 연습문제 2"
   ]
  },
  {
   "cell_type": "code",
   "execution_count": 8,
   "metadata": {},
   "outputs": [
    {
     "data": {
      "text/plain": [
       "6"
      ]
     },
     "execution_count": 8,
     "metadata": {},
     "output_type": "execute_result"
    }
   ],
   "source": [
    "def factorial(n):\n",
    "    result = 1\n",
    "    for x in range(n,0,-1):\n",
    "             result *= x\n",
    "    return result\n",
    "\n",
    "factorial(3)"
   ]
  },
  {
   "cell_type": "markdown",
   "metadata": {},
   "source": [
    "# 연습문제 3"
   ]
  },
  {
   "cell_type": "code",
   "execution_count": 9,
   "metadata": {},
   "outputs": [
    {
     "data": {
      "text/plain": [
       "16"
      ]
     },
     "execution_count": 9,
     "metadata": {},
     "output_type": "execute_result"
    }
   ],
   "source": [
    "#연습문제3\n",
    "def pow(n,a):\n",
    "    result= n**a\n",
    "    return result\n",
    "\n",
    "pow(5,3)\n",
    "pow(4,2)\n",
    "pow(2,4)"
   ]
  },
  {
   "cell_type": "markdown",
   "metadata": {},
   "source": [
    "# 연습문제 4\n",
    "\n",
    "    초를 넘겨주면 시간, 분, 초를 리턴해주는 함수를 작성하시오."
   ]
  },
  {
   "cell_type": "code",
   "execution_count": 14,
   "metadata": {},
   "outputs": [
    {
     "name": "stdout",
     "output_type": "stream",
     "text": [
      "0시간 1분 40초\n"
     ]
    }
   ],
   "source": [
    "def hour_min_sec(second):\n",
    "    sec = second % 60\n",
    "    second //=60\n",
    "    \n",
    "    minu = second %60\n",
    "    second //=60\n",
    "    \n",
    "    hour = second % 60\n",
    "\n",
    "    return (hour, minu, sec)\n",
    "\n",
    "hour, minu, sec = hour_min_sec(100)\n",
    "print(\"%d시간 %d분 %d초\"%(hour, minu, sec))"
   ]
  },
  {
   "cell_type": "markdown",
   "metadata": {},
   "source": [
    "# 연습문제 5\n",
    "   \n",
    "   숫자로 구성된 리스트를 입력받아 최대값, 최소값을 리턴하고, 두 수를 리스트에서 제거하는 함수를 작성하시오."
   ]
  },
  {
   "cell_type": "code",
   "execution_count": 8,
   "metadata": {},
   "outputs": [
    {
     "name": "stdout",
     "output_type": "stream",
     "text": [
      "1\n",
      "9\n",
      "[3, 5, 2]\n"
     ]
    }
   ],
   "source": [
    "def get_min_max(l):\n",
    "   \n",
    "    mini=min(l)\n",
    "    l.remove(mini) # 참조된 리스트에서 최소값을 제거한다.\n",
    "    \n",
    "    maxi= max(l)\n",
    "    l.remove(maxi) # 참조된 리스트에서 최대값을 제거한다.\n",
    "       \n",
    "        \n",
    "    return mini, maxi\n",
    "\n",
    "l=[3,5,9,1,2]\n",
    "(min_val,max_val) = get_min_max(l)\n",
    "\n",
    "print(min_val)\n",
    "print(max_val)\n",
    "print(l)"
   ]
  },
  {
   "cell_type": "markdown",
   "metadata": {},
   "source": [
    "# 연습문제 6\n",
    "\n",
    "    Dot product(스칼라곱, 내적)을 계산하는 spareVectorDotProduct(v1,v2)함수 작성"
   ]
  },
  {
   "cell_type": "code",
   "execution_count": 19,
   "metadata": {},
   "outputs": [
    {
     "name": "stdout",
     "output_type": "stream",
     "text": [
      "<class 'dict_keys'>\n",
      "15\n",
      "<class 'dict_keys'>\n",
      "0\n",
      "<class 'dict_keys'>\n",
      "3\n"
     ]
    }
   ],
   "source": [
    "def sparseVectorDotProduct(v1, v2):\n",
    "    res=0\n",
    "    \n",
    "    v2_keys=v2.keys() #keys() 반복호출을 막기 위해 미리 dict_keys를 저장함.\n",
    "    \n",
    "    for k in v1.keys():\n",
    "        if k in v2_keys: # v2에 k라는 키가 존재한다면 같은 키를 사용하는 값으로 계산한다.\n",
    "            res+=(v1[k]*v2[k])\n",
    "    \n",
    "    return res\n",
    "\n",
    "\n",
    "#test case1\n",
    "v1={'a':5}; v2={'a':3, 'b':2}\n",
    "print(sparseVectorDotProduct(v1,v2))\n",
    "\n",
    "#test case2\n",
    "v1={'c':5}; v2={'a':2, 'b':1}\n",
    "print(sparseVectorDotProduct(v1,v2))\n",
    "\n",
    "#test case3\n",
    "v1={'a':5, 'b':4}; v2={'a':-1, 'b':2}\n",
    "print(sparseVectorDotProduct(v1,v2))"
   ]
  },
  {
   "cell_type": "markdown",
   "metadata": {},
   "source": [
    "#### 다른 방법"
   ]
  },
  {
   "cell_type": "code",
   "execution_count": 43,
   "metadata": {},
   "outputs": [
    {
     "name": "stdout",
     "output_type": "stream",
     "text": [
      "15\n",
      "0\n",
      "3\n"
     ]
    }
   ],
   "source": [
    "def dot_product(v1,v2):\n",
    "    res =0\n",
    "    \n",
    "    s3 = set(v1.keys()) & set(v2.keys())\n",
    "    # s1 = set(v2.keys())\n",
    "    # s2 = set(v2.keys())\n",
    "    # s3 = intersect s1 and s2\n",
    "    for k in s3:\n",
    "        res+=v1[k]*v2[k]\n",
    "            \n",
    "    \n",
    "    return res\n",
    "\n",
    "#test case1\n",
    "v1={'a':5}; v2={'a':3, 'b':2}\n",
    "print(dot_product(v1,v2))\n",
    "\n",
    "#test case2\n",
    "v1={'c':5}; v2={'a':2, 'b':1}\n",
    "print(dot_product(v1,v2))\n",
    "\n",
    "#test case3\n",
    "v1={'a':5, 'b':4}; v2={'a':-1, 'b':2}\n",
    "print(dot_product(v1,v2))"
   ]
  },
  {
   "cell_type": "code",
   "execution_count": 41,
   "metadata": {},
   "outputs": [
    {
     "name": "stdout",
     "output_type": "stream",
     "text": [
      "15\n",
      "0\n",
      "3\n"
     ]
    }
   ],
   "source": [
    "def dot_product2(v1,v2):\n",
    "    res=0\n",
    "    for k in v1:\n",
    "        try:\n",
    "            res+=v1[k]*v2[k]\n",
    "        except KeyError: # key Error에 대한 예외처리.\n",
    "            pass\n",
    "    return res\n",
    "\n",
    "#test case1\n",
    "v1={'a':5}; v2={'a':3, 'b':2}\n",
    "print(dot_product2(v1,v2))\n",
    "\n",
    "#test case2\n",
    "v1={'c':5}; v2={'a':2, 'b':1}\n",
    "print(dot_product2(v1,v2))\n",
    "\n",
    "#test case3\n",
    "v1={'a':5, 'b':4}; v2={'a':-1, 'b':2}\n",
    "print(dot_product2(v1,v2))"
   ]
  },
  {
   "cell_type": "code",
   "execution_count": 42,
   "metadata": {},
   "outputs": [
    {
     "data": {
      "text/plain": [
       "3"
      ]
     },
     "execution_count": 42,
     "metadata": {},
     "output_type": "execute_result"
    }
   ],
   "source": [
    "sum([v1[k]*v2[k] for k in v1.keys() if k in v2])"
   ]
  },
  {
   "cell_type": "code",
   "execution_count": 17,
   "metadata": {},
   "outputs": [
    {
     "name": "stdout",
     "output_type": "stream",
     "text": [
      "[1, 2, 3, 4, 5, 6]\n"
     ]
    }
   ],
   "source": [
    "t=[1,2,3]\n",
    "\n",
    "def test(a):\n",
    "    a+=[4,5,6] # 리스트 연결\n",
    "\n",
    "test(t)\n",
    "print(t)"
   ]
  },
  {
   "cell_type": "code",
   "execution_count": 44,
   "metadata": {},
   "outputs": [],
   "source": [
    "import random"
   ]
  },
  {
   "cell_type": "code",
   "execution_count": 46,
   "metadata": {},
   "outputs": [
    {
     "data": {
      "text/plain": [
       "'d'"
      ]
     },
     "execution_count": 46,
     "metadata": {},
     "output_type": "execute_result"
    }
   ],
   "source": [
    "random.choice('abcdes')"
   ]
  },
  {
   "cell_type": "code",
   "execution_count": 47,
   "metadata": {},
   "outputs": [
    {
     "data": {
      "text/plain": [
       "[2, 6, 5]"
      ]
     },
     "execution_count": 47,
     "metadata": {},
     "output_type": "execute_result"
    }
   ],
   "source": [
    "random.sample(list(range(1,7)),3)"
   ]
  },
  {
   "cell_type": "markdown",
   "metadata": {},
   "source": [
    "# 연습문제7\n",
    "    1~45 번호 중 6개 임의 선택 후 출력"
   ]
  },
  {
   "cell_type": "code",
   "execution_count": 56,
   "metadata": {},
   "outputs": [
    {
     "name": "stdout",
     "output_type": "stream",
     "text": [
      " ** 로또 추첨을 시작합니다. **\n",
      "추첨된 로또 번호 ==> [42, 21, 22, 20, 28, 1]\n"
     ]
    },
    {
     "data": {
      "text/plain": [
       "[45, 35, 29, 22, 5, 4]"
      ]
     },
     "execution_count": 56,
     "metadata": {},
     "output_type": "execute_result"
    }
   ],
   "source": [
    "print(\" ** 로또 추첨을 시작합니다. **\")\n",
    "print(\"추첨된 로또 번호 ==>\",random.sample(list(range(1,46)),6))\n",
    "random.sample([x for x in range(1,46)],6) #list comprehension"
   ]
  },
  {
   "cell_type": "code",
   "execution_count": 52,
   "metadata": {},
   "outputs": [],
   "source": [
    "import time\n"
   ]
  },
  {
   "cell_type": "code",
   "execution_count": 58,
   "metadata": {},
   "outputs": [
    {
     "data": {
      "text/plain": [
       "'date: 01th'"
      ]
     },
     "execution_count": 58,
     "metadata": {},
     "output_type": "execute_result"
    }
   ],
   "source": [
    "t=time.localtime()\n",
    "time.strftime('date: %dth',t) #strftime "
   ]
  },
  {
   "cell_type": "markdown",
   "metadata": {},
   "source": [
    "# 연습문제 8\n",
    "    1. 문장을 입력받으면 해당 문장에서 각 알파벳이 몇 개씩 나오는지 저장하는 딕셔너리를 반환하는 함수를 작성하시오.\n",
    "    2. 1의 함수를 통해 생성된 딕셔너리를 입력받으면, 가장 많이 등장한 알파벳을 리턴하는 함수를 작성하시오.(여러 개일 경우 하나만 리턴 해도 무관)\n",
    "   "
   ]
  },
  {
   "cell_type": "code",
   "execution_count": 86,
   "metadata": {},
   "outputs": [
    {
     "name": "stdout",
     "output_type": "stream",
     "text": [
      "{'r': 1, 'e': 2, 'd': 1, ' ': 1, 'a': 1, 'p': 2, 'l': 1}\n",
      "e\n"
     ]
    }
   ],
   "source": [
    "def letter_dict(sen):\n",
    "    #sen=sen.split()\n",
    "    d={}\n",
    "    #for word in sen:\n",
    "    for j in range(len(sen)):\n",
    "        if sen[j] in d.keys():\n",
    "            d[sen[j]]+=1\n",
    "        else:\n",
    "            d[sen[j]]=1\n",
    "    return d\n",
    "\n",
    "def max_letter(dic):\n",
    "    res=\"\"\n",
    "#     maxx=0\n",
    "#     for k,v in dic.items():\n",
    "#         if v>maxx:\n",
    "#             maxx=v\n",
    "#             res=k\n",
    "\n",
    "    #sorting\n",
    "    sortedList=sorted(dic.items(), key=lambda x:x[1], reverse=True)\n",
    "    res=sortedList[0][0]\n",
    "    return res\n",
    "\n",
    "a=letter_dict('red apple')\n",
    "print(a)\n",
    "print(max_letter(a))"
   ]
  },
  {
   "cell_type": "markdown",
   "metadata": {},
   "source": [
    "# 연습문제 9\n",
    "    1. 'yellow banana'를 letter_dict()에 입력하여 새로운 딕셔너리 b를 리턴 받는다.\n",
    "    2. 두 딕셔너리 a, b를 입력하면 각 딕셔너리에 등장한 값을 모두 더한 새로운 딕셔너리 c를 리턴하는 함수를 작성하시오."
   ]
  },
  {
   "cell_type": "code",
   "execution_count": 74,
   "metadata": {},
   "outputs": [
    {
     "name": "stdout",
     "output_type": "stream",
     "text": [
      "{'r': 1, 'e': 3, 'd': 1, ' ': 2, 'a': 4, 'p': 2, 'l': 3, 'y': 1, 'o': 1, 'w': 1, 'b': 1, 'n': 2}\n",
      "a\n"
     ]
    }
   ],
   "source": [
    "\n",
    "def comb_dict(dict1, dict2):\n",
    "    \n",
    "    d={}\n",
    " \n",
    "    for k,v in dict1.items():\n",
    "        if k in dict2: # v2에 k라는 키가 존재한다면 같은 키를 사용하는 값으로 계산한다.\n",
    "            d[k]=dict1[k]+dict2[k]\n",
    "        else :\n",
    "            d[k]=dict1[k]\n",
    "            \n",
    "    for k,v in dict2.items():\n",
    "        if k not in dict1:\n",
    "            d[k]=dict2[k]\n",
    "            \n",
    "    return d\n",
    "\n",
    "\n",
    "b=letter_dict('yellow banana')\n",
    "c=comb_dict(a,b)\n",
    "\n",
    "print(c)\n",
    "print(max_letter(c))\n"
   ]
  },
  {
   "cell_type": "markdown",
   "metadata": {},
   "source": [
    "++++++++++++++++++++++++++++++++++++++++++++++++++++++++++++++++++++++++++++++++++++++++++++++++++\n",
    "\n",
    "# OOP  & Numpy"
   ]
  },
  {
   "cell_type": "code",
   "execution_count": 117,
   "metadata": {},
   "outputs": [
    {
     "name": "stdout",
     "output_type": "stream",
     "text": [
      "1500 1000\n",
      "Sorry, minimum balance must be maintained\n",
      "1500\n",
      "1000\n"
     ]
    }
   ],
   "source": [
    "class Account:\n",
    "    # 계좌의 속성(Attribute)\n",
    "#     number = \"OOOO-OOO-OOOOOO\"\n",
    "#     balance = 0\n",
    "#     rate = 1.0\n",
    "\n",
    "    num_acc = 0\n",
    "\n",
    "    def __init__(self, num=\"OOO-OOO-OOOOO\", amnt=0, rate=1.0):\n",
    "        #Constructor\n",
    "        self.number = num\n",
    "        self.balance = amnt\n",
    "        self.rate = rate\n",
    "        Account.num_acc+=1 #static varible, 모든 인스턴스가 공유하는 변수.\n",
    "        \n",
    "    # 계좌의 기능(Method)\n",
    "    def deposit(self, money): #입금\n",
    "        self.balance += money\n",
    "        \n",
    "    def withdraw(self, money): #인출\n",
    "        self.balance -= money\n",
    "        return True\n",
    "    \n",
    "    def obtain_interest(self): #이자 획득\n",
    "        self.balance += self.balance*(self.rate/100)\n",
    "        \n",
    "    def __add__(self, another): #두 계좌 통합 기능\n",
    "        new_acc=Account(amnt=self.balance+another.balance, rate=self.rate)\n",
    "        return new_acc\n",
    "    \n",
    "    #연습문제1\n",
    "    def transfer(self, another, money):\n",
    "#         another.deposit(money)\n",
    "#         self.withdraw(money)\n",
    "        \n",
    "        if self.withdraw(money):\n",
    "            another.deposit(money)\n",
    "        #another.balance+=money\n",
    "        #self.balance-=money\n",
    "        \n",
    "        \n",
    "    def get_balance(self):\n",
    "        return self.balance\n",
    "    \n",
    "    def set_balance(self, money):\n",
    "        self.balance=money\n",
    "        \n",
    "        \n",
    "class MinBalanceAccount(Account): #Account 클래스를 상속받음\n",
    "    #잔액이 일정금액 이상 유지되어야 하는 계좌\n",
    "    def __init__(self, min_balance=0, num='OOOO-OOO-OOOOO', amnt=0, rate=1.0):\n",
    "        Account.__init__(self, num=num, amnt=amnt,rate=rate) #부모 생성자를 호출할 수 있음.\n",
    "        self.minimum_balance = min_balance\n",
    "        self.bonus_rate = 1.0\n",
    "    \n",
    "    def withdraw(self, amnt): # 인출 기능 수정\n",
    "        if self.balance - amnt < self.minimum_balance:\n",
    "            print('Sorry, minimum balance must be maintained')\n",
    "            return False\n",
    "        else:\n",
    "            return Account.withdraw(self, amnt)\n",
    "        \n",
    "    def obtain_interest(self): #보너스 이율 반영\n",
    "        self.balance +=(self.balance)*((self.rate+self.bonus_rate)/100.0)\n",
    "\n",
    "    \n",
    "acc1 = Account()\n",
    "acc2 = MinBalanceAccount(700)\n",
    "acc3 = Account()\n",
    "\n",
    "acc1.deposit(500) #object.method() // 클래스의 method를 호출 하는 방법\n",
    "acc2.deposit(1000) #Account.deposit(acc2,1000) -> self에 acc2의 주소를 전달해준다.\n",
    "\n",
    "# print(acc1.balance) #object.attribute() //클래스의 attribute에 접근하는 방법\n",
    "# print(acc2.balance)\n",
    "# print(acc3.balance)\n",
    "# print(Account.num_acc)\n",
    "# print(acc1.num_acc)\n",
    "\n",
    "acc4=acc1+acc2\n",
    "print(acc4.balance, acc2.balance)\n",
    "\n",
    "acc2.transfer(acc4, 500) # acc4에서 acc2로 100원 송금\n",
    "print(acc4.get_balance())\n",
    "print(acc2.get_balance())"
   ]
  }
 ],
 "metadata": {
  "kernelspec": {
   "display_name": "Python 3",
   "language": "python",
   "name": "python3"
  },
  "language_info": {
   "codemirror_mode": {
    "name": "ipython",
    "version": 3
   },
   "file_extension": ".py",
   "mimetype": "text/x-python",
   "name": "python",
   "nbconvert_exporter": "python",
   "pygments_lexer": "ipython3",
   "version": "3.7.6"
  }
 },
 "nbformat": 4,
 "nbformat_minor": 2
}
