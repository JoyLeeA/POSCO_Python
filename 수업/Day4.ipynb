{
 "cells": [
  {
   "cell_type": "markdown",
   "metadata": {},
   "source": [
    "# Numpy"
   ]
  },
  {
   "cell_type": "code",
   "execution_count": 2,
   "metadata": {},
   "outputs": [],
   "source": [
    "import numpy as np"
   ]
  },
  {
   "cell_type": "code",
   "execution_count": 4,
   "metadata": {},
   "outputs": [
    {
     "name": "stdout",
     "output_type": "stream",
     "text": [
      "<class 'numpy.ndarray'>\n",
      "(3,)\n",
      "1 2 3\n",
      "[5 2 3]\n",
      "(2, 3)\n",
      "1 2 4\n"
     ]
    }
   ],
   "source": [
    "a = np.array([1,2,3]) # 1차원 array [1,2,3] 생성\n",
    "print(type(a))\n",
    "print(a.shape)\n",
    "print(a[0], a[1], a[2])\n",
    "a[0] = 5\n",
    "print(a)\n",
    "b = np.array([[1,2,3],[4,5,6]])\n",
    "print(b.shape)\n",
    "print(b[0, 0], b[0, 1], b[1, 0])"
   ]
  },
  {
   "cell_type": "code",
   "execution_count": 7,
   "metadata": {},
   "outputs": [
    {
     "name": "stdout",
     "output_type": "stream",
     "text": [
      "[[0. 0.]\n",
      " [0. 0.]]\n",
      "[[1. 1.]]\n",
      "[[7 7]\n",
      " [7 7]]\n",
      "[[1. 0.]\n",
      " [0. 1.]]\n",
      "[[0.36956021 0.29000217]\n",
      " [0.62558485 0.07612852]]\n"
     ]
    }
   ],
   "source": [
    "a = np.zeros((2,2)) # 모든 값이 0인 2x2 array 생성\n",
    "print(a)\n",
    "\n",
    "b = np.ones((1,2)) # 모든 값이 1인 1x2 array 생성\n",
    "print(b)\n",
    "\n",
    "c = np.full((2,2), 7) # 모든 값이 7인 2x2 array 생성\n",
    "print(c)\n",
    "\n",
    "d = np.eye(2) # 2x2 단위행렬(Identity matrix) 생성\n",
    "print(d)\n",
    "\n",
    "e = np.random.random((2,2)) # 0~1 랜덤 값을 가지는 2x2 array 생성\n",
    "print(e)"
   ]
  },
  {
   "cell_type": "code",
   "execution_count": 8,
   "metadata": {},
   "outputs": [
    {
     "name": "stdout",
     "output_type": "stream",
     "text": [
      "2\n",
      "77\n"
     ]
    }
   ],
   "source": [
    "a = np.array([[1,2,3,4],[5,6,7,8],[9,10,11,12]])\n",
    "\n",
    "\n",
    "# 첫번째 행의 처음부터 2 앞까지(0,1), 두번째 행에서\n",
    "# 1부터 3 앞까지(1,2)의 값들을 떠와 b에 할당.\n",
    "# 따라서 b 는 다음과 같은 2x2 array:\n",
    "# [[2 3]\n",
    "# [6 7]]\n",
    "\n",
    "b= a[:2, 1:3]\n",
    "print(a[0, 1])\n",
    "\n",
    "b[0, 0] = 77\n",
    "print(a[0, 1])\n",
    "# Slicing을 한다고 해서 값을 복사해가는 것이 아니므로\n",
    "# 값의 변화가 동시에 일어남"
   ]
  },
  {
   "cell_type": "code",
   "execution_count": 9,
   "metadata": {},
   "outputs": [
    {
     "name": "stdout",
     "output_type": "stream",
     "text": [
      "[5 6 7 8] (4,)\n",
      "[[5 6 7 8]] (1, 4)\n",
      "[ 2  6 10] (3,)\n",
      "[[ 2]\n",
      " [ 6]\n",
      " [10]] (3, 1)\n"
     ]
    }
   ],
   "source": [
    "# 2차원 배열(3x4) 생성\n",
    "# [[ 1 2 3 4]\n",
    "# [ 5 6 7 8]\n",
    "# [ 9 10 11 12]]\n",
    "\n",
    "#slicing -> 축을 그대로 유지한다.\n",
    "#indexing -> 값만 추출한다.(즉, 축이 사라짐)\n",
    "\n",
    "a = np.array([[1,2,3,4],[5,6,7,8],[9,10,11,12]])\n",
    "\n",
    "# 두 번째 행의 값들을 모두 가져오는 두 가지 방법\n",
    "row_r1 = a[1, :]# 1차원 행렬 (4,)\n",
    "row_r2 = a[1:2, :] # 2차원 행렬 (1x4) – 기존 차원 유지\n",
    "\n",
    "print(row_r1, row_r1.shape)\n",
    "print(row_r2, row_r2.shape)\n",
    "\n",
    "# 두 번째 열의 값들을 모두 가져오는 두 가지 방법\n",
    "col_r1 = a[:,1]\n",
    "col_r2 = a[:,1:2]\n",
    "print(col_r1,col_r1.shape)\n",
    "print(col_r2,col_r2.shape)\n"
   ]
  },
  {
   "cell_type": "code",
   "execution_count": 11,
   "metadata": {},
   "outputs": [
    {
     "name": "stdout",
     "output_type": "stream",
     "text": [
      "[0 1 2]\n",
      "(3,)\n",
      "[1 4 5]\n"
     ]
    }
   ],
   "source": [
    "a=np.array([[1,2],[3,4],[5,6]])\n",
    "#[1 4 5] 1차원 행렬(3,)을 얻는 두 가지 방법\n",
    "b=np.arange(3)\n",
    "print(b)\n",
    "print(b.shape)\n",
    "print(a[range(3), [0,1,0]]) #index는 정수만 들어갈 수 있다.\n"
   ]
  },
  {
   "cell_type": "code",
   "execution_count": 13,
   "metadata": {},
   "outputs": [
    {
     "name": "stdout",
     "output_type": "stream",
     "text": [
      "[[ 1  2  3]\n",
      " [ 4  5  6]\n",
      " [ 7  8  9]\n",
      " [10 11 12]]\n",
      "[ 1  6  7 11]\n",
      "[[11  2  3]\n",
      " [ 4  5 16]\n",
      " [17  8  9]\n",
      " [10 21 12]]\n"
     ]
    }
   ],
   "source": [
    "# 2차원 배열(4x3) 생성\n",
    "# [[ 1 2 3]\n",
    "# [ 4 5 6]\n",
    "# [ 7 8 9]\n",
    "# [ 10 11 12]]\n",
    "a = np.array([[1,2,3],[4,5,6],[7,8,9],[10,11,12]])\n",
    "print(a)\n",
    "\n",
    "b = np.array([0, 2, 0, 1])\n",
    "print(a[np.arange(4), b]) # [1 6 7 11]\n",
    "\n",
    "a[np.arange(4), b] += 10\n",
    "print(a) \n",
    "# array([[11, 2, 3],\n",
    "#[ 4, 5, 16],\n",
    "#[17, 8, 9],\n",
    "#[10, 21, 12]])"
   ]
  },
  {
   "cell_type": "markdown",
   "metadata": {},
   "source": [
    "dtype을 명시적으로 지정해주지 않아도 알아서 타입을 인식한다."
   ]
  },
  {
   "cell_type": "code",
   "execution_count": 23,
   "metadata": {},
   "outputs": [
    {
     "name": "stdout",
     "output_type": "stream",
     "text": [
      "int64\n",
      "int64\n",
      "[1 2]\n",
      "int64\n",
      "[1.         1.41421356]\n"
     ]
    }
   ],
   "source": [
    "x = np.array([1, 2])\n",
    "print(x.dtype) # prints “int64”\n",
    "\n",
    "x = np.array([1.0, 2.0], dtype=np.int64) # 입력을 float, dtype을 int로 주면 입력을 모두 int로 자동형변환을 시킨다.\n",
    "print(x.dtype) # “float64”\n",
    "print(x)\n",
    "\n",
    "x = np.array([1, 2], dtype=np.int64) # 데이터타입 명시\n",
    "print(x.dtype) # “int64”\n",
    "\n"
   ]
  },
  {
   "cell_type": "code",
   "execution_count": 27,
   "metadata": {},
   "outputs": [
    {
     "name": "stdout",
     "output_type": "stream",
     "text": [
      "[[ 6.  8.]\n",
      " [10. 12.]]\n",
      "[[ 6.  8.]\n",
      " [10. 12.]]\n",
      "[[-4. -4.]\n",
      " [-4. -4.]]\n",
      "[[-4. -4.]\n",
      " [-4. -4.]]\n",
      "[[ 5. 12.]\n",
      " [21. 32.]]\n",
      "[[ 5. 12.]\n",
      " [21. 32.]]\n",
      "[[0.2        0.33333333]\n",
      " [0.42857143 0.5       ]]\n",
      "[[0.2        0.33333333]\n",
      " [0.42857143 0.5       ]]\n",
      "[[1.         1.41421356]\n",
      " [1.73205081 2.        ]]\n",
      "219\n",
      "219\n",
      "[29. 67.]\n",
      "[29. 67.]\n",
      "[[19. 22.]\n",
      " [43. 50.]]\n",
      "[[19. 22.]\n",
      " [43. 50.]]\n",
      "[[19. 22.]\n",
      " [43. 50.]]\n"
     ]
    }
   ],
   "source": [
    "x= np.array([[1,2],[3,4]], dtype=np.float64)\n",
    "y= np.array([[5,6],[7,8]], dtype=np.float64)\n",
    "\n",
    "#Elementwise sum\n",
    "print(x+y)\n",
    "print(np.add(x,y))\n",
    "\n",
    "#Elementwise difference\n",
    "print(x-y)\n",
    "print(np.subtract(x,y))\n",
    "\n",
    "#Elementwise product != dot-product\n",
    "print(x*y)\n",
    "print(np.multiply(x,y))\n",
    "\n",
    "#Elementwise division\n",
    "print(x/y)\n",
    "print(np.divide(x,y))\n",
    "\n",
    "\n",
    "#Elementwise square root\n",
    "print(np.sqrt(x))\n",
    "\n",
    "\n",
    "v=np.array([9,10])\n",
    "w=np.array([11,12])\n",
    "\n",
    "#v . w =219 ==> dot product (내적))\n",
    "print(v.dot(w))\n",
    "print(np.dot(v,w))\n",
    "\n",
    "#matrix / vector product; [29 67]\n",
    "print(x.dot(v))\n",
    "print(np.dot(x,v))\n",
    "\n",
    "#matrix matrix product\n",
    "print(x.dot(y))\n",
    "print(np.dot(x,y))\n",
    "\n",
    "print(np.matmul(x,y))"
   ]
  },
  {
   "cell_type": "code",
   "execution_count": 29,
   "metadata": {},
   "outputs": [
    {
     "name": "stdout",
     "output_type": "stream",
     "text": [
      "21\n",
      "[ 9 12]\n",
      "[ 3  7 11]\n"
     ]
    }
   ],
   "source": [
    "x = np.array([[1, 2], [3, 4],[5,6]])\n",
    "print(np.sum(x)) # 모든 원소의 합 => result : scalar\n",
    "print(np.sum(x, axis=0)) # 각 열의 합\n",
    "print(np.sum(x, axis=1)) # 각 행의 합"
   ]
  },
  {
   "cell_type": "code",
   "execution_count": 30,
   "metadata": {},
   "outputs": [
    {
     "name": "stdout",
     "output_type": "stream",
     "text": [
      "(3, 4)\n",
      "(2, 4)\n",
      "(2, 3)\n"
     ]
    }
   ],
   "source": [
    "x=np.ones((2,3,4))\n",
    "print(np.sum(x, axis=0).shape)\n",
    "print(np.sum(x, axis=1).shape)\n",
    "print(np.sum(x, axis=2).shape)"
   ]
  },
  {
   "cell_type": "markdown",
   "metadata": {},
   "source": [
    "### Transpose : 전치행렬\n",
    "    vector => Transpose 불가능(축이 하나여서)\n",
    "    "
   ]
  },
  {
   "cell_type": "code",
   "execution_count": 31,
   "metadata": {},
   "outputs": [
    {
     "name": "stdout",
     "output_type": "stream",
     "text": [
      "[[1 2]\n",
      " [3 4]]\n",
      "[[1 3]\n",
      " [2 4]]\n"
     ]
    }
   ],
   "source": [
    "x=np.array([[1,2],[3,4]])\n",
    "\n",
    "print(x)\n",
    "print(x.T)"
   ]
  },
  {
   "cell_type": "markdown",
   "metadata": {},
   "source": [
    "Broadcasting 방법1"
   ]
  },
  {
   "cell_type": "code",
   "execution_count": 40,
   "metadata": {},
   "outputs": [
    {
     "name": "stdout",
     "output_type": "stream",
     "text": [
      "[[ 1  3  3]\n",
      " [ 4  6  6]\n",
      " [ 7  9  9]\n",
      " [10 12 12]]\n"
     ]
    }
   ],
   "source": [
    "x=np.array([[1,2,3],[4,5,6],[7,8,9],[10,11,12]])\n",
    "v=np.array([0,1,0])\n",
    "\n",
    "y=np.empty_like(x) # 4x3 empty matrix 생성됨\n",
    "\n",
    "for i in range(x.shape[0]):\n",
    "    y[i,:] = x[i,:]+v\n",
    "\n",
    "print(y)\n"
   ]
  },
  {
   "cell_type": "markdown",
   "metadata": {},
   "source": [
    "Broadcasting 방법2"
   ]
  },
  {
   "cell_type": "code",
   "execution_count": 45,
   "metadata": {},
   "outputs": [
    {
     "name": "stdout",
     "output_type": "stream",
     "text": [
      "[[0 1 0]\n",
      " [0 1 0]\n",
      " [0 1 0]\n",
      " [0 1 0]]\n",
      "[[ 1  3  3]\n",
      " [ 4  6  6]\n",
      " [ 7  9  9]\n",
      " [10 12 12]]\n"
     ]
    }
   ],
   "source": [
    "x=np.array([[1,2,3],[4,5,6],[7,8,9],[10,11,12]])\n",
    "v=np.array([0,1,0])\n",
    "\n",
    "vv=np.tile(v,(4,1)) #v 내용을 4x1의 각 행에 반복함\n",
    "print(vv)\n",
    "\n",
    "y=x+vv\n",
    "\n",
    "print(y)"
   ]
  },
  {
   "cell_type": "markdown",
   "metadata": {},
   "source": [
    "### 진짜 Broadcasting방법\n",
    "Broadcasting 방법3"
   ]
  },
  {
   "cell_type": "code",
   "execution_count": 44,
   "metadata": {},
   "outputs": [
    {
     "name": "stdout",
     "output_type": "stream",
     "text": [
      "[[ 1  3  3]\n",
      " [ 4  6  6]\n",
      " [ 7  9  9]\n",
      " [10 12 12]]\n"
     ]
    }
   ],
   "source": [
    "x=np.array([[1,2,3],[4,5,6],[7,8,9],[10,11,12]])\n",
    "v=np.array([0,1,0])\n",
    "\n",
    "# 브로드캐스팅을 사용하여 x의 각 행에 v값을 더함.\n",
    "y=x+v\n",
    "\n",
    "print(y)"
   ]
  },
  {
   "cell_type": "code",
   "execution_count": 52,
   "metadata": {},
   "outputs": [
    {
     "name": "stdout",
     "output_type": "stream",
     "text": [
      "[[1]\n",
      " [0]\n",
      " [1]\n",
      " [1]]\n",
      "[[ 2  3  4]\n",
      " [ 4  5  6]\n",
      " [ 8  9 10]\n",
      " [11 12 13]]\n"
     ]
    }
   ],
   "source": [
    "x=np.array([[1,2,3],[4,5,6],[7,8,9],[10,11,12]])\n",
    "#v=np.array([[1,0,1,1]]).T\n",
    "v=np.array([1,0,1,1])\n",
    "\n",
    "#reshape\n",
    "v1=np.reshape(v, (4,1))\n",
    "\n",
    "v2=np.expand_dims(v,axis=1)\n",
    "\n",
    "print(v2)\n",
    "# 브로드캐스팅을 사용하여 x의 각 행에 v값을 더함.\n",
    "y=x+v2\n",
    "\n",
    "print(y)"
   ]
  },
  {
   "cell_type": "markdown",
   "metadata": {},
   "source": [
    "# 연습문제2"
   ]
  },
  {
   "cell_type": "code",
   "execution_count": 60,
   "metadata": {},
   "outputs": [
    {
     "name": "stdout",
     "output_type": "stream",
     "text": [
      "[[10.]\n",
      " [ 5.]]\n"
     ]
    }
   ],
   "source": [
    "mat =np.array([[1,1],[2,1]])\n",
    "y=np.array([[15],[25]])\n",
    "\n",
    "revMat=np.linalg.inv(mat)\n",
    "#print(revMat)\n",
    "\n",
    "res=revMat.dot(y)\n",
    "print(res)\n"
   ]
  },
  {
   "cell_type": "markdown",
   "metadata": {},
   "source": [
    "# Pickle\n",
    "\n",
    "데이터를 타입 변경 없이, 파일로 저장 및 불러오기가 가능하도록 하는 모듈\n",
    "\n",
    "    pickle.dump(npair, file) # npair를 file로 저장하는 함수    \n",
    "    pickle.load(file) # file을 읽고 로드하는 함수\n",
    "    \n",
    "### 여러 데이터타입을 dump하고 싶으면 list에 저장해서 pickle을 사용해서 저장하면 된다."
   ]
  },
  {
   "cell_type": "code",
   "execution_count": 64,
   "metadata": {},
   "outputs": [],
   "source": [
    "import pickle\n",
    "favorite_color={'lion':'yellow','kitty':'red'}\n",
    "pickle.dump(favorite_color, open(\"save.p\",'wb'))"
   ]
  },
  {
   "cell_type": "code",
   "execution_count": 65,
   "metadata": {},
   "outputs": [],
   "source": [
    "favorite_color=pickle.load(open(\"save.p\",\"rb\"))"
   ]
  },
  {
   "cell_type": "code",
   "execution_count": 66,
   "metadata": {},
   "outputs": [
    {
     "data": {
      "text/plain": [
       "{'lion': 'yellow', 'kitty': 'red'}"
      ]
     },
     "execution_count": 66,
     "metadata": {},
     "output_type": "execute_result"
    }
   ],
   "source": [
    "favorite_color"
   ]
  },
  {
   "cell_type": "code",
   "execution_count": null,
   "metadata": {},
   "outputs": [],
   "source": []
  },
  {
   "cell_type": "code",
   "execution_count": 101,
   "metadata": {},
   "outputs": [
    {
     "name": "stdout",
     "output_type": "stream",
     "text": [
      "[0,0] :  0\n",
      "[0,1] :  0\n",
      "[1,0] :  0\n",
      "[1,1] :  1\n",
      "W: [[-0.83168679 -0.54624776]\n",
      " [ 0.15038562  0.44051885]]\n",
      "b: [ 0.00611889 -0.43476171]\n"
     ]
    }
   ],
   "source": [
    "def main():\n",
    "    x1 = np.array([[0,0]])\n",
    "    x2 = np.array([[0,1]])\n",
    "    x3 = np.array([[1,0]])\n",
    "    x4 = np.array([[1,1]])\n",
    "\n",
    "    while True:\n",
    "        w=np.random.randn(2,2)\n",
    "        b=np.random.randn(2,)\n",
    "\n",
    "        xx1=(x1.dot(w)+b).argmax()\n",
    "        xx2=(x2.dot(w)+b).argmax()\n",
    "        xx3=(x3.dot(w)+b).argmax()\n",
    "        xx4=(x4.dot(w)+b).argmax()\n",
    "\n",
    "        #print(xx1,xx2,xx3,xx4)\n",
    "        if xx1==0 and xx2==0 and xx3==0 and xx4==1:\n",
    "            break\n",
    "\n",
    "    print(\"[0,0] : \",xx1)\n",
    "    print(\"[0,1] : \",xx2)\n",
    "    print(\"[1,0] : \",xx3)\n",
    "    print(\"[1,1] : \",xx4)\n",
    "    print(\"W:\",w)\n",
    "    print(\"b:\",b)\n",
    "\n",
    "\n",
    "if __name__ == '__main__':\n",
    "    main()"
   ]
  },
  {
   "cell_type": "code",
   "execution_count": null,
   "metadata": {},
   "outputs": [],
   "source": []
  }
 ],
 "metadata": {
  "kernelspec": {
   "display_name": "Python 3",
   "language": "python",
   "name": "python3"
  },
  "language_info": {
   "codemirror_mode": {
    "name": "ipython",
    "version": 3
   },
   "file_extension": ".py",
   "mimetype": "text/x-python",
   "name": "python",
   "nbconvert_exporter": "python",
   "pygments_lexer": "ipython3",
   "version": "3.7.3"
  }
 },
 "nbformat": 4,
 "nbformat_minor": 2
}
