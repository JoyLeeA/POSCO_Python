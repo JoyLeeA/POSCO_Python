{
 "cells": [
  {
   "cell_type": "markdown",
   "metadata": {},
   "source": [
    "### SET(집합)\n",
    "    데이터 중복이 발생하지 않는다.\n",
    "    ## 2020/01/14 Tues"
   ]
  },
  {
   "cell_type": "code",
   "execution_count": 1,
   "metadata": {},
   "outputs": [
    {
     "data": {
      "text/plain": [
       "set"
      ]
     },
     "execution_count": 1,
     "metadata": {},
     "output_type": "execute_result"
    }
   ],
   "source": [
    "# 공집합\n",
    "s={}\n",
    "type(s) # dict\n",
    "\n",
    "s=set()\n",
    "type(s) #Empty set"
   ]
  },
  {
   "cell_type": "code",
   "execution_count": 2,
   "metadata": {},
   "outputs": [
    {
     "data": {
      "text/plain": [
       "'HelloHello'"
      ]
     },
     "execution_count": 2,
     "metadata": {},
     "output_type": "execute_result"
    }
   ],
   "source": [
    "word=\"Hello\"*2\n",
    "word"
   ]
  },
  {
   "cell_type": "code",
   "execution_count": 8,
   "metadata": {},
   "outputs": [
    {
     "name": "stdout",
     "output_type": "stream",
     "text": [
      "(1, 2, 3)\n"
     ]
    }
   ],
   "source": [
    "a=1,2,3\n",
    "print(a)"
   ]
  },
  {
   "cell_type": "code",
   "execution_count": 3,
   "metadata": {},
   "outputs": [
    {
     "data": {
      "text/plain": [
       "['H', 'e', 'l', 'l', 'o', 'H', 'e', 'l', 'l', 'o']"
      ]
     },
     "execution_count": 3,
     "metadata": {},
     "output_type": "execute_result"
    }
   ],
   "source": [
    "wordList=list(word)\n",
    "wordList"
   ]
  },
  {
   "cell_type": "code",
   "execution_count": 5,
   "metadata": {},
   "outputs": [
    {
     "data": {
      "text/plain": [
       "{'H', 'e', 'l', 'o'}"
      ]
     },
     "execution_count": 5,
     "metadata": {},
     "output_type": "execute_result"
    }
   ],
   "source": [
    "s3 = set(word)\n",
    "s3 # 중복이 발생하지 않는다."
   ]
  },
  {
   "cell_type": "markdown",
   "metadata": {},
   "source": [
    "### Dictionary"
   ]
  },
  {
   "cell_type": "code",
   "execution_count": 7,
   "metadata": {},
   "outputs": [
    {
     "data": {
      "text/plain": [
       "{'kim': 1, 'park': 2}"
      ]
     },
     "execution_count": 7,
     "metadata": {},
     "output_type": "execute_result"
    }
   ],
   "source": [
    "d={} # == d=dict()\n",
    "d['kim']=1 # d[key] = value\n",
    "d['park']=2\n",
    "d"
   ]
  },
  {
   "cell_type": "code",
   "execution_count": 9,
   "metadata": {},
   "outputs": [
    {
     "data": {
      "text/plain": [
       "1"
      ]
     },
     "execution_count": 9,
     "metadata": {},
     "output_type": "execute_result"
    }
   ],
   "source": [
    "d['kim'] # dictionary 에 key가 존재하면 해당 key에 대한 value를 반환한다."
   ]
  },
  {
   "cell_type": "code",
   "execution_count": 10,
   "metadata": {},
   "outputs": [],
   "source": [
    "d['kim']=5\n",
    "d['youn']=1"
   ]
  },
  {
   "cell_type": "code",
   "execution_count": 12,
   "metadata": {},
   "outputs": [
    {
     "data": {
      "text/plain": [
       "{'kim': 5, 'park': 2, 'youn': 1}"
      ]
     },
     "execution_count": 12,
     "metadata": {},
     "output_type": "execute_result"
    }
   ],
   "source": [
    "d"
   ]
  },
  {
   "cell_type": "code",
   "execution_count": 15,
   "metadata": {},
   "outputs": [
    {
     "name": "stdout",
     "output_type": "stream",
     "text": [
      "dict_keys(['kim', 'park', 'youn'])\n",
      "dict_values([5, 2, 1])\n",
      "dict_items([('kim', 5), ('park', 2), ('youn', 1)])\n"
     ]
    }
   ],
   "source": [
    "print(d.keys()) # Returns dict_keys object\n",
    "print(d.values()) # Returns dict_values object\n",
    "print(d.items()) # Returns dict_items object pair of (key, value)"
   ]
  },
  {
   "cell_type": "code",
   "execution_count": 18,
   "metadata": {},
   "outputs": [
    {
     "name": "stdout",
     "output_type": "stream",
     "text": [
      "5 2 1 "
     ]
    }
   ],
   "source": [
    "for v in d.values():\n",
    "    print(v,end=\" \")"
   ]
  },
  {
   "cell_type": "code",
   "execution_count": 24,
   "metadata": {},
   "outputs": [
    {
     "name": "stdout",
     "output_type": "stream",
     "text": [
      "5 2 1 "
     ]
    }
   ],
   "source": [
    "for k in d.keys():\n",
    "    print(d[k],end=\" \")\n",
    "    "
   ]
  },
  {
   "cell_type": "code",
   "execution_count": 28,
   "metadata": {},
   "outputs": [
    {
     "name": "stdout",
     "output_type": "stream",
     "text": [
      "5 2 1 5 2 1 "
     ]
    }
   ],
   "source": [
    "for item in d.items():\n",
    "    print(item[1], end=\" \")\n",
    "    \n",
    "for k, v in d.items():\n",
    "    print(v, end=\" \")"
   ]
  },
  {
   "cell_type": "code",
   "execution_count": 29,
   "metadata": {},
   "outputs": [
    {
     "name": "stdout",
     "output_type": "stream",
     "text": [
      "Enter a sentence : Python is fun!\n"
     ]
    },
    {
     "data": {
      "text/plain": [
       "{'P': 1,\n",
       " 'y': 1,\n",
       " 't': 1,\n",
       " 'h': 1,\n",
       " 'o': 1,\n",
       " 'n': 2,\n",
       " ' ': 2,\n",
       " 'i': 1,\n",
       " 's': 1,\n",
       " 'f': 1,\n",
       " 'u': 1,\n",
       " '!': 1}"
      ]
     },
     "execution_count": 29,
     "metadata": {},
     "output_type": "execute_result"
    }
   ],
   "source": [
    "al={}\n",
    "inString=input(\"Enter a sentence : \")\n",
    "for a in inString:\n",
    "    if a in al:\n",
    "        al[a]+=1\n",
    "    else:\n",
    "        al[a]=1\n",
    "\n",
    "al"
   ]
  },
  {
   "cell_type": "code",
   "execution_count": 33,
   "metadata": {},
   "outputs": [],
   "source": [
    "f=open(\"new.txt\",\"a\")\n",
    "\n",
    "for i in range(1,6):\n",
    "    data=\"%d line\\n\"%(i*2)\n",
    "    f.write(data)\n",
    "\n",
    "f.close()"
   ]
  },
  {
   "cell_type": "code",
   "execution_count": 34,
   "metadata": {},
   "outputs": [
    {
     "name": "stdout",
     "output_type": "stream",
     "text": [
      "1 line\n",
      "2 line\n",
      "3 line\n",
      "4 line\n",
      "5 line\n",
      "2 line\n",
      "4 line\n",
      "6 line\n",
      "8 line\n",
      "10 line\n",
      "\n"
     ]
    }
   ],
   "source": [
    "f=open(\"new.txt\",'r')\n",
    "\n",
    "data=f.read()# 전체를 읽어옴.\n",
    "print(data)\n",
    "\n",
    "f.close()"
   ]
  },
  {
   "cell_type": "code",
   "execution_count": 41,
   "metadata": {},
   "outputs": [
    {
     "name": "stdout",
     "output_type": "stream",
     "text": [
      "1 line\n",
      "2 line\n",
      "\n"
     ]
    }
   ],
   "source": [
    "f=open(\"new.txt\",\"r\")\n",
    "\n",
    "line = f.readline() # 한 줄 만 읽어옴.\n",
    "print(line, end=\"\")\n",
    "print(f.readline())"
   ]
  },
  {
   "cell_type": "code",
   "execution_count": 42,
   "metadata": {},
   "outputs": [],
   "source": [
    "import os"
   ]
  },
  {
   "cell_type": "code",
   "execution_count": 52,
   "metadata": {},
   "outputs": [
    {
     "name": "stdout",
     "output_type": "stream",
     "text": [
      "Enter a file name: new.txt\n",
      "1 LINE\n",
      "2 LINE\n",
      "3 LINE\n",
      "4 LINE\n",
      "5 LINE\n",
      "2 LINE\n",
      "4 LINE\n",
      "6 LINE\n",
      "8 LINE\n",
      "10 LINE\n"
     ]
    }
   ],
   "source": [
    "fName=input(\"Enter a file name: \")\n",
    "\n",
    "if os.path.exists(fName):\n",
    "    # check \"test.txt\" file is exists.\n",
    "    with open(fName,\"r\") as file:\n",
    "        for line in file:\n",
    "            print(line.upper(), end=\"\")\n",
    "else:\n",
    "    print(\"입력하신 파일은 존재하지 않습니다. 파일명을 다시 확인해주세요\")"
   ]
  },
  {
   "cell_type": "code",
   "execution_count": 55,
   "metadata": {},
   "outputs": [
    {
     "name": "stdout",
     "output_type": "stream",
     "text": [
      "Enter a file name: test.txt\n",
      "first 1\n",
      "line 3\n",
      "second 1\n",
      "third 1\n"
     ]
    }
   ],
   "source": [
    "fName=input(\"Enter a file name: \")\n",
    "di={}\n",
    "if os.path.exists(fName):\n",
    "    with open(fName, \"r\")as file:\n",
    "        for line in file:\n",
    "            for word in line.split():\n",
    "                if word in di:\n",
    "                    di[word]+=1\n",
    "                else:\n",
    "                    di[word]=1\n",
    "    \n",
    "    for k,v in di.items():\n",
    "        print(\"%s %d\"%(k,v))\n",
    "else:\n",
    "    print(\"입력하신 파일은 존재하지 않습니다. 파일명을 다시 확인해주세요.\")\n",
    "    "
   ]
  },
  {
   "cell_type": "code",
   "execution_count": 57,
   "metadata": {},
   "outputs": [
    {
     "ename": "TypeError",
     "evalue": "'set' object is not subscriptable",
     "output_type": "error",
     "traceback": [
      "\u001b[0;31m---------------------------------------------------------------------------\u001b[0m",
      "\u001b[0;31mTypeError\u001b[0m                                 Traceback (most recent call last)",
      "\u001b[0;32m<ipython-input-57-b9e2ca7c8e58>\u001b[0m in \u001b[0;36m<module>\u001b[0;34m\u001b[0m\n\u001b[1;32m      2\u001b[0m \u001b[0ms\u001b[0m \u001b[0;34m=\u001b[0m \u001b[0mset\u001b[0m\u001b[0;34m(\u001b[0m\u001b[0msen\u001b[0m\u001b[0;34m.\u001b[0m\u001b[0msplit\u001b[0m\u001b[0;34m(\u001b[0m\u001b[0;34m)\u001b[0m\u001b[0;34m)\u001b[0m\u001b[0;34m\u001b[0m\u001b[0;34m\u001b[0m\u001b[0m\n\u001b[1;32m      3\u001b[0m \u001b[0;32mfor\u001b[0m \u001b[0ma\u001b[0m \u001b[0;32min\u001b[0m \u001b[0msen\u001b[0m\u001b[0;34m:\u001b[0m\u001b[0;34m\u001b[0m\u001b[0;34m\u001b[0m\u001b[0m\n\u001b[0;32m----> 4\u001b[0;31m     \u001b[0ms\u001b[0m\u001b[0;34m[\u001b[0m\u001b[0ma\u001b[0m\u001b[0;34m]\u001b[0m\u001b[0;34m.\u001b[0m\u001b[0mcount\u001b[0m\u001b[0;34m(\u001b[0m\u001b[0;34m)\u001b[0m\u001b[0;34m\u001b[0m\u001b[0;34m\u001b[0m\u001b[0m\n\u001b[0m",
      "\u001b[0;31mTypeError\u001b[0m: 'set' object is not subscriptable"
     ]
    }
   ],
   "source": [
    "sen=\"abcc\"\n",
    "s = set()\n",
    "\n",
    "for a in sen:\n",
    "    s[a].count()"
   ]
  },
  {
   "cell_type": "code",
   "execution_count": null,
   "metadata": {},
   "outputs": [],
   "source": []
  },
  {
   "cell_type": "markdown",
   "metadata": {},
   "source": [
    "# FUNCTION"
   ]
  },
  {
   "cell_type": "code",
   "execution_count": 66,
   "metadata": {},
   "outputs": [
    {
     "data": {
      "text/plain": [
       "int"
      ]
     },
     "execution_count": 66,
     "metadata": {},
     "output_type": "execute_result"
    }
   ],
   "source": [
    "type(111)"
   ]
  },
  {
   "cell_type": "code",
   "execution_count": 75,
   "metadata": {},
   "outputs": [],
   "source": [
    "def my_len(sen):\n",
    "    length=0\n",
    "    if type(sen) == int:\n",
    "        # 정수의 자리수 반환\n",
    "        while sen>0:\n",
    "            length+=1\n",
    "            sen//=10\n",
    "        \n",
    "    else:\n",
    "    #list / tuple / string \n",
    "        for i in sen:\n",
    "            length+=1\n",
    "    \n",
    "    return length"
   ]
  },
  {
   "cell_type": "code",
   "execution_count": 79,
   "metadata": {},
   "outputs": [
    {
     "name": "stdout",
     "output_type": "stream",
     "text": [
      "6 10\n",
      "6 10 3\n"
     ]
    }
   ],
   "source": [
    "a=[5,5,6,7,8,3]\n",
    "b=\"I am a boy\"\n",
    "c=123\n",
    "print(len(a), len(b))\n",
    "print(my_len(a), my_len(b),my_len(c))"
   ]
  },
  {
   "cell_type": "code",
   "execution_count": 83,
   "metadata": {},
   "outputs": [],
   "source": [
    "def add(a,b):\n",
    "    return a+b\n",
    "def sub(a,b):\n",
    "    return a-b\n",
    "def mul(a,b):\n",
    "    return a*b\n",
    "def div(a,b):\n",
    "    return a//b\n"
   ]
  },
  {
   "cell_type": "code",
   "execution_count": 84,
   "metadata": {},
   "outputs": [
    {
     "name": "stdout",
     "output_type": "stream",
     "text": [
      "3 -1 2 0\n"
     ]
    }
   ],
   "source": [
    "a=1; b=2\n",
    "c=add(a,b)\n",
    "d=sub(a,b)\n",
    "e=mul(a,b)\n",
    "f=div(a,b)\n",
    "\n",
    "print(c,d,e,f)"
   ]
  },
  {
   "cell_type": "code",
   "execution_count": 85,
   "metadata": {},
   "outputs": [],
   "source": [
    "def factorial(n):\n",
    "    res=1\n",
    "    for i in range(1, n+1):\n",
    "        res*=i\n",
    "    \n",
    "    return res"
   ]
  },
  {
   "cell_type": "code",
   "execution_count": 87,
   "metadata": {},
   "outputs": [
    {
     "name": "stdout",
     "output_type": "stream",
     "text": [
      "6\n",
      "120\n",
      "40320\n",
      "1\n"
     ]
    }
   ],
   "source": [
    "print(factorial(3))\n",
    "print(factorial(5))\n",
    "print(factorial(8))\n",
    "print(factorial(1))"
   ]
  },
  {
   "cell_type": "code",
   "execution_count": 94,
   "metadata": {},
   "outputs": [],
   "source": [
    "def pow(n,a):\n",
    "    res=1\n",
    "    while a>0:\n",
    "        res*=n\n",
    "        a-=1\n",
    "    return res"
   ]
  },
  {
   "cell_type": "code",
   "execution_count": 95,
   "metadata": {},
   "outputs": [
    {
     "name": "stdout",
     "output_type": "stream",
     "text": [
      "125\n",
      "16\n",
      "16\n"
     ]
    }
   ],
   "source": [
    "print(pow(5,3))\n",
    "print(pow(4,2))\n",
    "print(pow(2,4))"
   ]
  },
  {
   "cell_type": "markdown",
   "metadata": {},
   "source": [
    "## 문자열"
   ]
  },
  {
   "cell_type": "code",
   "execution_count": 9,
   "metadata": {},
   "outputs": [
    {
     "data": {
      "text/plain": [
       "'\\nPython\\nis\\nfun!\\n'"
      ]
     },
     "execution_count": 9,
     "metadata": {},
     "output_type": "execute_result"
    }
   ],
   "source": [
    "'''\n",
    "Python\n",
    "is\n",
    "fun!\n",
    "'''\n",
    "#일종의 주석 처리"
   ]
  },
  {
   "cell_type": "code",
   "execution_count": 10,
   "metadata": {},
   "outputs": [
    {
     "data": {
      "text/plain": [
       "'PythonPythonPython'"
      ]
     },
     "execution_count": 10,
     "metadata": {},
     "output_type": "execute_result"
    }
   ],
   "source": [
    "'Python' * 3"
   ]
  },
  {
   "cell_type": "code",
   "execution_count": 11,
   "metadata": {},
   "outputs": [],
   "source": [
    "word = \"python\""
   ]
  },
  {
   "cell_type": "code",
   "execution_count": 12,
   "metadata": {},
   "outputs": [
    {
     "data": {
      "text/plain": [
       "'n'"
      ]
     },
     "execution_count": 12,
     "metadata": {},
     "output_type": "execute_result"
    }
   ],
   "source": [
    "word[0]\n",
    "word[-1] #뒤에서 부터 -1, -2 앞에서 부터 0, 1 ....."
   ]
  },
  {
   "cell_type": "code",
   "execution_count": 13,
   "metadata": {},
   "outputs": [
    {
     "data": {
      "text/plain": [
       "'py'"
      ]
     },
     "execution_count": 13,
     "metadata": {},
     "output_type": "execute_result"
    }
   ],
   "source": [
    "word[0:2]"
   ]
  },
  {
   "cell_type": "code",
   "execution_count": 14,
   "metadata": {},
   "outputs": [],
   "source": [
    "word = \"12345\""
   ]
  },
  {
   "cell_type": "code",
   "execution_count": 15,
   "metadata": {},
   "outputs": [
    {
     "data": {
      "text/plain": [
       "'12345'"
      ]
     },
     "execution_count": 15,
     "metadata": {},
     "output_type": "execute_result"
    }
   ],
   "source": [
    "word[:]"
   ]
  },
  {
   "cell_type": "code",
   "execution_count": 16,
   "metadata": {},
   "outputs": [
    {
     "data": {
      "text/plain": [
       "'135'"
      ]
     },
     "execution_count": 16,
     "metadata": {},
     "output_type": "execute_result"
    }
   ],
   "source": [
    "word[::2]"
   ]
  },
  {
   "cell_type": "code",
   "execution_count": 17,
   "metadata": {},
   "outputs": [
    {
     "data": {
      "text/plain": [
       "'54321'"
      ]
     },
     "execution_count": 17,
     "metadata": {},
     "output_type": "execute_result"
    }
   ],
   "source": [
    "word[::-1]"
   ]
  },
  {
   "cell_type": "code",
   "execution_count": 18,
   "metadata": {},
   "outputs": [
    {
     "data": {
      "text/plain": [
       "6"
      ]
     },
     "execution_count": 18,
     "metadata": {},
     "output_type": "execute_result"
    }
   ],
   "source": [
    "word = 'Python'\n",
    "len(word)"
   ]
  },
  {
   "cell_type": "code",
   "execution_count": 19,
   "metadata": {},
   "outputs": [
    {
     "data": {
      "text/plain": [
       "14"
      ]
     },
     "execution_count": 19,
     "metadata": {},
     "output_type": "execute_result"
    }
   ],
   "source": [
    "len(\"Python is fun!\")"
   ]
  },
  {
   "cell_type": "code",
   "execution_count": 20,
   "metadata": {},
   "outputs": [
    {
     "data": {
      "text/plain": [
       "2"
      ]
     },
     "execution_count": 20,
     "metadata": {},
     "output_type": "execute_result"
    }
   ],
   "source": [
    "s = 'Python is fun!'\n",
    "s.count('n')"
   ]
  },
  {
   "cell_type": "code",
   "execution_count": 21,
   "metadata": {},
   "outputs": [
    {
     "data": {
      "text/plain": [
       "5"
      ]
     },
     "execution_count": 21,
     "metadata": {},
     "output_type": "execute_result"
    }
   ],
   "source": [
    "s.index('n')"
   ]
  },
  {
   "cell_type": "code",
   "execution_count": 22,
   "metadata": {},
   "outputs": [
    {
     "data": {
      "text/plain": [
       "'1,2,3,4'"
      ]
     },
     "execution_count": 22,
     "metadata": {},
     "output_type": "execute_result"
    }
   ],
   "source": [
    "a =','\n",
    "a.join('1234')"
   ]
  },
  {
   "cell_type": "code",
   "execution_count": 23,
   "metadata": {},
   "outputs": [
    {
     "name": "stdout",
     "output_type": "stream",
     "text": [
      "세 개의 수를 입력하시오: 30 22 50\n",
      "가장 큰 수는 50 입니다\n"
     ]
    }
   ],
   "source": [
    "#1.조건문 - 문제 4\n",
    "a1 = input(\"세 개의 수를 입력하시오: \")\n",
    "a, b, c = a1.split( )\n",
    "a, b, c = int(a), int(b), int(c)\n",
    "\n",
    "if a > b:\n",
    "    if a > c:\n",
    "        print(\"가장 큰 수는\", a, \"입니다\")\n",
    "if b > a:\n",
    "    if b > c:\n",
    "        print(\"가장 큰 수는\", b, \"입니다\")\n",
    "else:\n",
    "    print(\"가장 큰 수는\", c, \"입니다\")"
   ]
  },
  {
   "cell_type": "code",
   "execution_count": 26,
   "metadata": {},
   "outputs": [
    {
     "name": "stdout",
     "output_type": "stream",
     "text": [
      "날짜(연/월/일)입력2020/01/13\n",
      "입력한 날짜의 10년 후는 2030 년 01 월 13 일\n"
     ]
    }
   ],
   "source": [
    "#1일차의 2.문자열 - 7\n",
    "date = input('날짜(연/월/일)입력')\n",
    "d, e, f = date.split('/')\n",
    "print(\"입력한 날짜의 10년 후는\", int(d)+10, \"년\", e, \"월\", f,\"일\")"
   ]
  },
  {
   "cell_type": "code",
   "execution_count": 27,
   "metadata": {},
   "outputs": [
    {
     "name": "stdout",
     "output_type": "stream",
     "text": [
      "P\n",
      "y\n",
      "t\n",
      "h\n",
      "o\n",
      "n\n"
     ]
    }
   ],
   "source": [
    "#2.반복문 - 문제 1-2\n",
    "word = 'Python'\n",
    "words = list(word)\n",
    "for x in words:\n",
    "    print(x)"
   ]
  },
  {
   "cell_type": "code",
   "execution_count": 28,
   "metadata": {},
   "outputs": [
    {
     "name": "stdout",
     "output_type": "stream",
     "text": [
      "Enter a nubmer: 14\n",
      "14 is Even number\n"
     ]
    }
   ],
   "source": [
    "#1.조건문 - 문제 1\n",
    "number = input(\"Enter a nubmer: \")\n",
    "number = int(number)\n",
    "if number%2==0:\n",
    "    print(number,\"is Even number\")\n",
    "else:\n",
    "    print(number, \"is Odd number\")"
   ]
  },
  {
   "cell_type": "code",
   "execution_count": 29,
   "metadata": {},
   "outputs": [
    {
     "name": "stdout",
     "output_type": "stream",
     "text": [
      "Enter your midterm score: 77\n",
      "Enter your final score: 56\n",
      "Average:  66.5\n",
      "Grade: D\n"
     ]
    }
   ],
   "source": [
    "#1.조건문 - 문제 2\n",
    "a = int(input(\"Enter your midterm score: \"))\n",
    "b = int(input(\"Enter your final score: \" ))\n",
    "average = (a + b) / 2\n",
    "print(\"Average: \", average)\n",
    "if average >= 90:\n",
    "    print(\"Grade: A\")\n",
    "elif average >=80:\n",
    "    print(\"Grade: B\")\n",
    "elif average >=70:\n",
    "    print(\"Grade: C\")\n",
    "elif average >=60:\n",
    "    print(\"Grade: D\")\n",
    "else:\n",
    "    print(\"Grade: F\")\n",
    "\n"
   ]
  },
  {
   "cell_type": "code",
   "execution_count": 30,
   "metadata": {},
   "outputs": [
    {
     "name": "stdout",
     "output_type": "stream",
     "text": [
      "영어 점수 입력: 35\n",
      "수학 점수 입력: 95\n",
      "불합격: 영어 점수 부족\n"
     ]
    }
   ],
   "source": [
    "#1.조건문 - 문제 3\n",
    "a = int(input(\"영어 점수 입력: \"))\n",
    "b = int(input(\"수학 점수 입력: \" ))\n",
    "if a+b >= 110:\n",
    "    if a>= 40 and b>=40:\n",
    "        print(\"합격\")\n",
    "    elif a<40:\n",
    "        print(\"불합격: 영어 점수 부족\")\n",
    "    elif b<40:\n",
    "        print(\"불합격: 수학 점수 부족\")\n",
    "else:\n",
    "    print(\"불합격: 총합 점수 부족\")\n",
    "\n"
   ]
  },
  {
   "cell_type": "code",
   "execution_count": 31,
   "metadata": {},
   "outputs": [
    {
     "data": {
      "text/plain": [
       "[2, 4, 6, 8, 10]"
      ]
     },
     "execution_count": 31,
     "metadata": {},
     "output_type": "execute_result"
    }
   ],
   "source": [
    "list(range(2,11,2))"
   ]
  },
  {
   "cell_type": "code",
   "execution_count": 32,
   "metadata": {},
   "outputs": [
    {
     "name": "stdout",
     "output_type": "stream",
     "text": [
      "P\n",
      "y\n",
      "t\n",
      "h\n",
      "o\n",
      "n\n"
     ]
    }
   ],
   "source": [
    "#2.반복문 - 문제 1-1\n",
    "word = 'Python'\n",
    "words = list(word)\n",
    "i=0\n",
    "while i<6:\n",
    "    print(word[i])\n",
    "    i +=1"
   ]
  },
  {
   "cell_type": "code",
   "execution_count": 33,
   "metadata": {},
   "outputs": [
    {
     "name": "stdout",
     "output_type": "stream",
     "text": [
      "출력하고 싶은 단을 입력하세요: 7\n",
      "7  *  1  =  7\n",
      "7  *  2  =  14\n",
      "7  *  3  =  21\n",
      "7  *  4  =  28\n",
      "7  *  5  =  35\n",
      "7  *  6  =  42\n",
      "7  *  7  =  49\n",
      "7  *  8  =  56\n",
      "7  *  9  =  63\n"
     ]
    }
   ],
   "source": [
    "#2.반복문 - 문제 8\n",
    "a = int(input(\"출력하고 싶은 단을 입력하세요: \"))\n",
    "for x in range(1,10):\n",
    "    print(a, \" * \" , x , \" = \", a*x)"
   ]
  },
  {
   "cell_type": "code",
   "execution_count": 34,
   "metadata": {},
   "outputs": [
    {
     "name": "stdout",
     "output_type": "stream",
     "text": [
      "   == 2 단==\n",
      "2  *  1  =  2\n",
      "2  *  2  =  4\n",
      "2  *  3  =  6\n",
      "2  *  4  =  8\n",
      "2  *  5  =  10\n",
      "2  *  6  =  12\n",
      "2  *  7  =  14\n",
      "2  *  8  =  16\n",
      "2  *  9  =  18\n",
      "   == 3 단==\n",
      "3  *  1  =  3\n",
      "3  *  2  =  6\n",
      "3  *  3  =  9\n",
      "3  *  4  =  12\n",
      "3  *  5  =  15\n",
      "3  *  6  =  18\n",
      "3  *  7  =  21\n",
      "3  *  8  =  24\n",
      "3  *  9  =  27\n",
      "   == 4 단==\n",
      "4  *  1  =  4\n",
      "4  *  2  =  8\n",
      "4  *  3  =  12\n",
      "4  *  4  =  16\n",
      "4  *  5  =  20\n",
      "4  *  6  =  24\n",
      "4  *  7  =  28\n",
      "4  *  8  =  32\n",
      "4  *  9  =  36\n",
      "   == 5 단==\n",
      "5  *  1  =  5\n",
      "5  *  2  =  10\n",
      "5  *  3  =  15\n",
      "5  *  4  =  20\n",
      "5  *  5  =  25\n",
      "5  *  6  =  30\n",
      "5  *  7  =  35\n",
      "5  *  8  =  40\n",
      "5  *  9  =  45\n",
      "   == 6 단==\n",
      "6  *  1  =  6\n",
      "6  *  2  =  12\n",
      "6  *  3  =  18\n",
      "6  *  4  =  24\n",
      "6  *  5  =  30\n",
      "6  *  6  =  36\n",
      "6  *  7  =  42\n",
      "6  *  8  =  48\n",
      "6  *  9  =  54\n",
      "   == 7 단==\n",
      "7  *  1  =  7\n",
      "7  *  2  =  14\n",
      "7  *  3  =  21\n",
      "7  *  4  =  28\n",
      "7  *  5  =  35\n",
      "7  *  6  =  42\n",
      "7  *  7  =  49\n",
      "7  *  8  =  56\n",
      "7  *  9  =  63\n",
      "   == 8 단==\n",
      "8  *  1  =  8\n",
      "8  *  2  =  16\n",
      "8  *  3  =  24\n",
      "8  *  4  =  32\n",
      "8  *  5  =  40\n",
      "8  *  6  =  48\n",
      "8  *  7  =  56\n",
      "8  *  8  =  64\n",
      "8  *  9  =  72\n",
      "   == 9 단==\n",
      "9  *  1  =  9\n",
      "9  *  2  =  18\n",
      "9  *  3  =  27\n",
      "9  *  4  =  36\n",
      "9  *  5  =  45\n",
      "9  *  6  =  54\n",
      "9  *  7  =  63\n",
      "9  *  8  =  72\n",
      "9  *  9  =  81\n"
     ]
    }
   ],
   "source": [
    "#2.반복문 - 문제 9\n",
    "for i in range(2,10):\n",
    "    print(\"   ==\", i, \"단==\")\n",
    "    for k in range(1,10):\n",
    "        print(i, \" * \" , k , \" = \", i*k)"
   ]
  },
  {
   "cell_type": "code",
   "execution_count": 35,
   "metadata": {},
   "outputs": [
    {
     "name": "stdout",
     "output_type": "stream",
     "text": [
      "\n",
      "\n",
      "2 * 1 = 2 3 * 1 = 3 4 * 1 = 4 5 * 1 = 5 6 * 1 = 6 7 * 1 = 7 8 * 1 = 8 9 * 1 = 9 \n",
      "\n",
      "2 * 2 = 4 3 * 2 = 6 4 * 2 = 8 5 * 2 = 10 6 * 2 = 12 7 * 2 = 14 8 * 2 = 16 9 * 2 = 18 \n",
      "\n",
      "2 * 3 = 6 3 * 3 = 9 4 * 3 = 12 5 * 3 = 15 6 * 3 = 18 7 * 3 = 21 8 * 3 = 24 9 * 3 = 27 \n",
      "\n",
      "2 * 4 = 8 3 * 4 = 12 4 * 4 = 16 5 * 4 = 20 6 * 4 = 24 7 * 4 = 28 8 * 4 = 32 9 * 4 = 36 \n",
      "\n",
      "2 * 5 = 10 3 * 5 = 15 4 * 5 = 20 5 * 5 = 25 6 * 5 = 30 7 * 5 = 35 8 * 5 = 40 9 * 5 = 45 \n",
      "\n",
      "2 * 6 = 12 3 * 6 = 18 4 * 6 = 24 5 * 6 = 30 6 * 6 = 36 7 * 6 = 42 8 * 6 = 48 9 * 6 = 54 \n",
      "\n",
      "2 * 7 = 14 3 * 7 = 21 4 * 7 = 28 5 * 7 = 35 6 * 7 = 42 7 * 7 = 49 8 * 7 = 56 9 * 7 = 63 \n",
      "\n",
      "2 * 8 = 16 3 * 8 = 24 4 * 8 = 32 5 * 8 = 40 6 * 8 = 48 7 * 8 = 56 8 * 8 = 64 9 * 8 = 72 \n",
      "\n",
      "2 * 9 = 18 3 * 9 = 27 4 * 9 = 36 5 * 9 = 45 6 * 9 = 54 7 * 9 = 63 8 * 9 = 72 9 * 9 = 81 "
     ]
    }
   ],
   "source": [
    "#2.반복문 - 문제 10\n",
    "for i in range(1,10):\n",
    "    print(\"\\n\")\n",
    "    for k in range(2,10):\n",
    "        print(k, \"*\" , i , \"=\", i*k, end= \" \")"
   ]
  },
  {
   "cell_type": "code",
   "execution_count": 36,
   "metadata": {},
   "outputs": [
    {
     "name": "stdout",
     "output_type": "stream",
     "text": [
      "input an Integer: 3159\n",
      "\n",
      "☆☆☆\n",
      "☆\n",
      "☆☆☆☆☆\n",
      "☆☆☆☆☆☆☆☆☆"
     ]
    }
   ],
   "source": [
    "#2.반복문 - 문제 12\n",
    "num = input(\"input an Integer: \")\n",
    "\n",
    "for x in num:\n",
    "    print(\"\")\n",
    "    for y in range(int(x)):\n",
    "        print(\"☆\", end = '')"
   ]
  },
  {
   "cell_type": "code",
   "execution_count": 37,
   "metadata": {},
   "outputs": [
    {
     "name": "stdout",
     "output_type": "stream",
     "text": [
      "red\n",
      "green\n",
      "blue\n"
     ]
    }
   ],
   "source": [
    "#2.반복문 - 문제 6\n",
    "colors = [\"red\", \"green\", 'blue']\n",
    "for x in colors:\n",
    "    print(x)"
   ]
  },
  {
   "cell_type": "code",
   "execution_count": 38,
   "metadata": {},
   "outputs": [
    {
     "data": {
      "text/plain": [
       "[1, 7, 9, 2, 5]"
      ]
     },
     "execution_count": 38,
     "metadata": {},
     "output_type": "execute_result"
    }
   ],
   "source": [
    "a = [1, 7, 9, 2, 5]\n",
    "a"
   ]
  },
  {
   "cell_type": "code",
   "execution_count": 39,
   "metadata": {},
   "outputs": [
    {
     "data": {
      "text/plain": [
       "[9, 7, 5, 2, 1]"
      ]
     },
     "execution_count": 39,
     "metadata": {},
     "output_type": "execute_result"
    }
   ],
   "source": [
    "a.sort(reverse=True)\n",
    "a"
   ]
  },
  {
   "cell_type": "code",
   "execution_count": 40,
   "metadata": {},
   "outputs": [
    {
     "data": {
      "text/plain": [
       "[1, 2, 5, 7, 9]"
      ]
     },
     "execution_count": 40,
     "metadata": {},
     "output_type": "execute_result"
    }
   ],
   "source": [
    "a.reverse()\n",
    "a"
   ]
  },
  {
   "cell_type": "code",
   "execution_count": 41,
   "metadata": {},
   "outputs": [
    {
     "name": "stdout",
     "output_type": "stream",
     "text": [
      "Enter a number: 7\n",
      "Enter a number: 2\n",
      "Enter a number: 9\n",
      "Enter a number: 3\n",
      "Enter a number: 5\n",
      "Enter a number: done\n",
      "\n",
      "\n",
      "[7.0, 2.0, 9.0, 3.0, 5.0]\n",
      "Average: 5.2\n",
      "Maximum:  9.0\n",
      "Minimum 2.0\n"
     ]
    }
   ],
   "source": [
    "#2.반복문 - 문제 13\n",
    "b = []\n",
    "while 1:\n",
    "    a = input(\"Enter a number: \")\n",
    "    if a == 'done':\n",
    "        break\n",
    "    else:\n",
    "        b.append(a)\n",
    "print(\"\\n\")\n",
    "b = list(map(float,b))\n",
    "print(b)\n",
    "sum = 0\n",
    "length = len(b)\n",
    "for x in b:\n",
    "    sum = sum + x\n",
    "print(\"Average:\", sum/length)\n",
    "print(\"Maximum: \", max(b))\n",
    "print(\"Minimum\", min(b))\n",
    "\n"
   ]
  },
  {
   "cell_type": "code",
   "execution_count": 42,
   "metadata": {},
   "outputs": [
    {
     "name": "stdout",
     "output_type": "stream",
     "text": [
      "한 문장을 입력하시오: Python is fun!\n",
      "['P', 'y', 't', 'h', 'o', 'n', ' ', 'i', 's', ' ', 'f', 'u', 'n', '!']\n"
     ]
    }
   ],
   "source": [
    "#1일차의 2.문자열 - 4\n",
    "a = input(\"한 문장을 입력하시오: \")\n",
    "print(list(a))"
   ]
  },
  {
   "cell_type": "code",
   "execution_count": 43,
   "metadata": {},
   "outputs": [
    {
     "name": "stdout",
     "output_type": "stream",
     "text": [
      "enter two integers: 5 10\n",
      "The sum from 5 to 10 is 45\n"
     ]
    }
   ],
   "source": [
    "#2.반복문 - 문제 3\n",
    "nums = input(\"enter two integers: \")\n",
    "a, b = nums.split( )\n",
    "a = int(a)\n",
    "b = int(b)\n",
    "sum = 0\n",
    "for i in range(a,b+1,1):\n",
    "    sum += i\n",
    "print(\"The sum from\", a ,\"to\", b, \"is\", sum)\n",
    "\n"
   ]
  },
  {
   "cell_type": "code",
   "execution_count": null,
   "metadata": {},
   "outputs": [],
   "source": []
  }
 ],
 "metadata": {
  "kernelspec": {
   "display_name": "Python 3",
   "language": "python",
   "name": "python3"
  },
  "language_info": {
   "codemirror_mode": {
    "name": "ipython",
    "version": 3
   },
   "file_extension": ".py",
   "mimetype": "text/x-python",
   "name": "python",
   "nbconvert_exporter": "python",
   "pygments_lexer": "ipython3",
   "version": "3.7.6"
  }
 },
 "nbformat": 4,
 "nbformat_minor": 2
}
