{
 "cells": [
  {
   "cell_type": "code",
   "execution_count": 1,
   "metadata": {},
   "outputs": [
    {
     "name": "stdout",
     "output_type": "stream",
     "text": [
      "제 이름은 Kim ,나이는 30 ,학과는 Computer ,지도교수님은 Lee 입니다.\n",
      "제 이름은 Lee ,나이는 22 ,학과는 Computer ,지도교수님은 Lee 입니다.\n",
      "제 이름은 Lee ,나이는 55 ,학과는 Computer ,지도학생은Kim, Lee입니다\n"
     ]
    }
   ],
   "source": [
    "#문제 2 - people.py\n",
    "class Person:\n",
    "    name = 'Lee'\n",
    "    age = 20\n",
    "    department = 'Computer'\n",
    "    \n",
    "    def __init__(self, name='Lee', age=20, department='Computer'):\n",
    "        self.name = name\n",
    "        self.age = age\n",
    "        self.department = department\n",
    "    def get_name(name):\n",
    "        self.name = name\n",
    "\n",
    "class Student(Person):\n",
    "    def __init__(self, name='Lee', age=20, department='Computer', ID=1120, GPA=3.0, advisor=[]):\n",
    "        Person.__init__(self, name=name, age=age,department=department)\n",
    "        self.ID = ID\n",
    "        self.GPA = GPA\n",
    "        self.advisor = advisor\n",
    "    def print_info(self):\n",
    "        print(\"제 이름은\", self.name, \",나이는\", self.age, \",학과는\", self.department, \",지도교수님은\", self.advisor.name, \"입니다.\")\n",
    "    def reg_advisor(self, advisor):\n",
    "        self.advisor = advisor\n",
    "\n",
    "class Professor(Person):\n",
    "    def __init__(self, name='Lee', age=20, department='Computer', position=\"학관\", laboratory=\"신공학관\", student=[]):\n",
    "        Person.__init__(self, name=name, age=age,department=department)\n",
    "        self.position = position\n",
    "        self.laboratory = laboratory\n",
    "        self.student = []\n",
    "    def print_info(self):\n",
    "        print(\"제 이름은\", self.name, \",나이는\", self.age, \",학과는\", self.department, \",지도학생은\",end = '')\n",
    "        for i in range(len(self.student)) : \n",
    "            print(self.student[i].name,end = '')\n",
    "            if i != len(self.student) -1: \n",
    "                print(', ',end = '')\n",
    "        print('입니다')\n",
    "    def reg_student(self, student):\n",
    "        self.student.append(student)\n",
    "\n",
    "def main():\n",
    "    stu1 = Student('Kim', 30 ,'Computer', '20001234', 4.5)\n",
    "    stu2 = Student('Lee', 22, 'Computer', 20101234, 0.5)\n",
    "    prof1 = Professor('Lee', 55, 'Computer', 'Full', 'KLE')\n",
    "\n",
    "    stu1.reg_advisor(prof1)\n",
    "    stu2.reg_advisor(prof1)\n",
    "    prof1.reg_student(stu1)\n",
    "    prof1.reg_student(stu2)\n",
    "    stu1.print_info()\n",
    "    stu2.print_info()\n",
    "    prof1.print_info()\n",
    "\n",
    "if __name__=='__main__':\n",
    "    main()"
   ]
  }
 ],
 "metadata": {
  "kernelspec": {
   "display_name": "Python 3",
   "language": "python",
   "name": "python3"
  },
  "language_info": {
   "codemirror_mode": {
    "name": "ipython",
    "version": 3
   },
   "file_extension": ".py",
   "mimetype": "text/x-python",
   "name": "python",
   "nbconvert_exporter": "python",
   "pygments_lexer": "ipython3",
   "version": "3.7.4"
  }
 },
 "nbformat": 4,
 "nbformat_minor": 2
}
