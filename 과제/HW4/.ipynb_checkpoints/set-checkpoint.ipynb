{
 "cells": [
  {
   "cell_type": "code",
   "execution_count": 1,
   "metadata": {},
   "outputs": [
    {
     "name": "stdout",
     "output_type": "stream",
     "text": [
      "[1, 2, 3, 4]\n",
      "[2, 3]\n",
      "[1]\n"
     ]
    }
   ],
   "source": [
    "#과제 1 - set.py\n",
    "class Set:\n",
    "    def __init__(self, member=[]):\n",
    "        self.member=member\n",
    "        for x in member:\n",
    "            for y in range(1,member.count(x)):\n",
    "                self.member.remove(x)\n",
    "        \n",
    "    def append(self, a):\n",
    "        if self not in self.member:\n",
    "            self.member.append(a)\n",
    "        else:\n",
    "            pass\n",
    "        \n",
    "    def delete(self, a):\n",
    "        self.member.remove(a)\n",
    "        \n",
    "    def union(self, s2):\n",
    "        return Set(self.member + s2.member)\n",
    "        \n",
    "    def intersection(self, s2):\n",
    "        ret = []\n",
    "        for x in self.member :\n",
    "            for y in s2.member : \n",
    "                if x == y : \n",
    "                    ret.append(x)\n",
    "        return Set(ret)\n",
    "    def difference(self, s2):\n",
    "        ret = []\n",
    "        for x in self.member : \n",
    "            if not s2.member.count(x) :\n",
    "                ret.append(x)\n",
    "        return Set(ret)\n",
    "    \n",
    "    def __add__(self, s2):\n",
    "        return self.union(s2)\n",
    "    def __sub__(self, s2):\n",
    "        return self.intersection(s2)    \n",
    "    def __truediv__(self, s2):\n",
    "        return self.difference(s2)\n",
    "    def __repr__(self):\n",
    "        return str(self.member)\n",
    "\n",
    "def main():\n",
    "    a = Set([1,2,3])\n",
    "    b = Set([2,3,4])\n",
    "\n",
    "    c = a + b\n",
    "    print(c)\n",
    "\n",
    "    d = a - b\n",
    "    print(d)\n",
    "\n",
    "    e = a / b\n",
    "    print(e)\n",
    "\n",
    "if __name__=='__main__':\n",
    "    main()"
   ]
  }
 ],
 "metadata": {
  "kernelspec": {
   "display_name": "Python 3",
   "language": "python",
   "name": "python3"
  },
  "language_info": {
   "codemirror_mode": {
    "name": "ipython",
    "version": 3
   },
   "file_extension": ".py",
   "mimetype": "text/x-python",
   "name": "python",
   "nbconvert_exporter": "python",
   "pygments_lexer": "ipython3",
   "version": "3.7.4"
  }
 },
 "nbformat": 4,
 "nbformat_minor": 2
}
