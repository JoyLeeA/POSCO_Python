{
 "cells": [
  {
   "cell_type": "code",
   "execution_count": 2,
   "metadata": {},
   "outputs": [
    {
     "name": "stdout",
     "output_type": "stream",
     "text": [
      "평균: (0.5, 0.5) 분산: (0.16666666666666666, 0.16666666666666666)\n"
     ]
    }
   ],
   "source": [
    "#과제 4 - mean_and_var.py\n",
    "def mean(*val):\n",
    "    hap=0\n",
    "    cnt=0\n",
    "    for x in val:\n",
    "        hap += x\n",
    "        cnt += 1\n",
    "    result = hap/cnt\n",
    "    return result\n",
    "\n",
    "def var(*val):\n",
    "    temp = 0\n",
    "    temp2 = 0\n",
    "    cnt = 0\n",
    "    for x in val:\n",
    "        temp3 = (x-mean(*val))\n",
    "        temp = temp3**2\n",
    "        temp2 += temp\n",
    "        cnt +=1\n",
    "    result = temp2/cnt\n",
    "    return result\n",
    "\n",
    "def mean_and_var(*val):\n",
    "    x_mean = mean(*val[0])\n",
    "    y_mean = mean(*val[1])\n",
    "    x_var = var(*val[0])\n",
    "    y_var = var(*val[1])\n",
    "    return ((x_mean,y_mean),(x_var,y_var))\n",
    "\n",
    "def main():\n",
    "    v1=(0,0.5,1)\n",
    "    v2=(1,0.5,0)\n",
    "    \n",
    "    m,var = mean_and_var(v1, v2)\n",
    "    print('평균:', m, '분산:', var)\n",
    "\n",
    "if __name__=='__main__':\n",
    "    main()"
   ]
  }
 ],
 "metadata": {
  "kernelspec": {
   "display_name": "Python 3",
   "language": "python",
   "name": "python3"
  },
  "language_info": {
   "codemirror_mode": {
    "name": "ipython",
    "version": 3
   },
   "file_extension": ".py",
   "mimetype": "text/x-python",
   "name": "python",
   "nbconvert_exporter": "python",
   "pygments_lexer": "ipython3",
   "version": "3.7.4"
  }
 },
 "nbformat": 4,
 "nbformat_minor": 2
}
