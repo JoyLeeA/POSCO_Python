{
 "cells": [
  {
   "cell_type": "code",
   "execution_count": 1,
   "metadata": {},
   "outputs": [
    {
     "name": "stdout",
     "output_type": "stream",
     "text": [
      "1,234\n",
      "12,345,678\n",
      "12\n"
     ]
    }
   ],
   "source": [
    "#과제 2 - add_comma.py\n",
    "def add_comma(val):\n",
    "    a = format(val,',')\n",
    "    return a\n",
    "\n",
    "def main():\n",
    "    comma_added_1234 = add_comma(1234)\n",
    "    comma_added_12345678 = add_comma(12345678)\n",
    "    comma_added_12 = add_comma(12)\n",
    "    print(comma_added_1234)\n",
    "    print(comma_added_12345678)\n",
    "    print(comma_added_12)\n",
    "\n",
    "if __name__=='__main__':\n",
    "    main()"
   ]
  }
 ],
 "metadata": {
  "kernelspec": {
   "display_name": "Python 3",
   "language": "python",
   "name": "python3"
  },
  "language_info": {
   "codemirror_mode": {
    "name": "ipython",
    "version": 3
   },
   "file_extension": ".py",
   "mimetype": "text/x-python",
   "name": "python",
   "nbconvert_exporter": "python",
   "pygments_lexer": "ipython3",
   "version": "3.7.4"
  }
 },
 "nbformat": 4,
 "nbformat_minor": 2
}
