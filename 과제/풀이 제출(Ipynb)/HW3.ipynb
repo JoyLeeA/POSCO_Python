{
 "cells": [
  {
   "cell_type": "code",
   "execution_count": 1,
   "metadata": {},
   "outputs": [
    {
     "name": "stdout",
     "output_type": "stream",
     "text": [
      "1 2 10 "
     ]
    }
   ],
   "source": [
    "#1.딕셔너리 - 실습1\n",
    "d = {'youn':1, 'park':2, 'kim':10}\n",
    "for x in d.values():\n",
    "    print(x, end=\" \")"
   ]
  },
  {
   "cell_type": "code",
   "execution_count": 6,
   "metadata": {},
   "outputs": [
    {
     "name": "stdout",
     "output_type": "stream",
     "text": [
      "five 5\n",
      "four 4\n",
      "one 1\n",
      "three 3\n",
      "two 2\n"
     ]
    }
   ],
   "source": [
    "#2.딕셔너리 - 실습2\n",
    "d = {'one':1, 'two':2, 'three':3, 'four':4, 'five':5}\n",
    "for key, value in sorted(d.items()):\n",
    "        print(key,value)"
   ]
  },
  {
   "cell_type": "code",
   "execution_count": 3,
   "metadata": {},
   "outputs": [
    {
     "name": "stdout",
     "output_type": "stream",
     "text": [
      "Enter a sentence: Python is fun!\n",
      "{'P': 1, 'y': 1, 't': 1, 'h': 1, 'o': 1, 'n': 2, ' ': 2, 'i': 1, 's': 1, 'f': 1, 'u': 1, '!': 1}\n"
     ]
    }
   ],
   "source": [
    "#2.딕셔너리 - 실습3\n",
    "a = input(\"Enter a sentence: \")\n",
    "dic = {}\n",
    "\n",
    "for ch in a:\n",
    "    if ch in dic:\n",
    "         dic[ch] += 1\n",
    "    else:\n",
    "         dic[ch] = 1\n",
    "print(dic)"
   ]
  },
  {
   "cell_type": "code",
   "execution_count": 4,
   "metadata": {},
   "outputs": [],
   "source": [
    "#1.파일 - 실습1\n",
    "f = open(\"test.txt\", \"r\")\n",
    "dic = {}\n",
    "text = f.read()\n",
    "for l in f:\n",
    "     word = text.split()\n",
    "for x in word:\n",
    "    if x in dic:\n",
    "         dic[x] += 1\n",
    "    else:\n",
    "         dic[x] = 1\n",
    "for key, value in dic.items():\n",
    "        print(key,value)\n",
    "\n",
    "f.close()"
   ]
  },
  {
   "cell_type": "code",
   "execution_count": 5,
   "metadata": {},
   "outputs": [],
   "source": [
    "#1.파일 - 실습2\n",
    "f = open(\"test.txt\", \"r\")\n",
    "line = f.readline()\n",
    "while line:\n",
    "    print(line.upper())\n",
    "    line = f.readline()"
   ]
  },
  {
   "cell_type": "code",
   "execution_count": 52,
   "metadata": {},
   "outputs": [],
   "source": [
    "#1.파일 - 실습4\n",
    "\n",
    "def average(a, b):\n",
    "    return (a+b)/2\n",
    "\n",
    "def grade(a):\n",
    "    if a >= 90:\n",
    "        return '(A)'\n",
    "    elif a>=80:\n",
    "        return '(B)'\n",
    "    elif a>=70:\n",
    "        return '(C)'\n",
    "    elif a>=60:\n",
    "        return '(D)'\n",
    "    else:\n",
    "        return '(F)'\n",
    "\n",
    "f1 = open(\"score.txt\", \"r\")\n",
    "f2 = open(\"report.txt\", \"w\")\n",
    "line = f1.readline()\n",
    "while line:\n",
    "    a1, a2, a3 = line.split(\" \")\n",
    "    a1 = int(a1)\n",
    "    a2 = int(a2)\n",
    "    a3 = int(a3)\n",
    "    aver = average(a2, a3)\n",
    "    print(a1, a2, a3, aver,grade(aver),file = f2)\n",
    "    line = f1.readline()\n",
    "    \n",
    "f1.close()\n",
    "f2.close()"
   ]
  }
 ],
 "metadata": {
  "kernelspec": {
   "display_name": "Python 3",
   "language": "python",
   "name": "python3"
  },
  "language_info": {
   "codemirror_mode": {
    "name": "ipython",
    "version": 3
   },
   "file_extension": ".py",
   "mimetype": "text/x-python",
   "name": "python",
   "nbconvert_exporter": "python",
   "pygments_lexer": "ipython3",
   "version": "3.7.4"
  }
 },
 "nbformat": 4,
 "nbformat_minor": 2
}
