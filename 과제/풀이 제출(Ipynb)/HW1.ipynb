{
 "cells": [
  {
   "cell_type": "code",
   "execution_count": 2,
   "metadata": {},
   "outputs": [
    {
     "name": "stdout",
     "output_type": "stream",
     "text": [
      "화씨온도: 19\n",
      "섭씨온도:  -7.222222222222222\n"
     ]
    }
   ],
   "source": [
    "#문제 1\n",
    "Hwa = int(input(\"화씨온도: \"))\n",
    "Sub = (Hwa-32)*5/9\n",
    "print(\"섭씨온도: \", Sub)"
   ]
  },
  {
   "cell_type": "code",
   "execution_count": 18,
   "metadata": {},
   "outputs": [
    {
     "name": "stdout",
     "output_type": "stream",
     "text": [
      "투입한 돈:5000\n",
      "물건 값:2700\n",
      "거스름돈:  2300\n",
      "500 원짜리:  4 개\n",
      "100 원짜리:  3 개\n"
     ]
    }
   ],
   "source": [
    "#문제 2\n",
    "Money = int(input(\"투입한 돈:\" ))\n",
    "Price = int(input(\"물건 값:\" ))\n",
    "n1 = Money - Price\n",
    "print(\"거스름돈: \", n1)\n",
    "n2 = int(n1/500)\n",
    "print(\"500 원짜리: \", n2 , \"개\")\n",
    "print(\"100 원짜리: \", int((n1-(n2*500))/100),\"개\")                 "
   ]
  },
  {
   "cell_type": "code",
   "execution_count": 23,
   "metadata": {},
   "outputs": [
    {
     "name": "stdout",
     "output_type": "stream",
     "text": [
      "반지름을 입력하시오: 5\n",
      "원 둘레: 31.42 \n",
      "원 넓이: 78.54\n"
     ]
    }
   ],
   "source": [
    "#문제 3\n",
    "a1 = int(input(\"반지름을 입력하시오: \" ))\n",
    "pi = 3.141592\n",
    "Dule = 2*a1*pi\n",
    "Nulbi = a1**2*pi\n",
    "print(\"원 둘레: %.2f \" %Dule)\n",
    "print(\"원 넓이: %.2f\" %Nulbi)"
   ]
  },
  {
   "cell_type": "code",
   "execution_count": 27,
   "metadata": {},
   "outputs": [
    {
     "name": "stdout",
     "output_type": "stream",
     "text": [
      "한 문장을 입력하시오: Python is fun!\n",
      "['P', 'y', 't', 'h', 'o', 'n', ' ', 'i', 's', ' ', 'f', 'u', 'n', '!']\n"
     ]
    }
   ],
   "source": [
    "#문제 4\n",
    "sentence = input(\"한 문장을 입력하시오: \")\n",
    "b1 = \"/\".join(sentence)\n",
    "b2 = b1.split(\"/\")\n",
    "print(b2)\n"
   ]
  },
  {
   "cell_type": "code",
   "execution_count": 38,
   "metadata": {},
   "outputs": [
    {
     "name": "stdout",
     "output_type": "stream",
     "text": [
      "Enter two integers: 8 5\n",
      "8 + 5 = 13\n",
      "8 - 5 = 3\n",
      "8 * 5 = 40\n",
      "8 / 5 = 1.6\n",
      "8 % 5 = 3\n"
     ]
    }
   ],
   "source": [
    "#문제 5\n",
    "numbers = input('Enter two integers: ')\n",
    "a, b = numbers.split( )\n",
    "a = int(a)\n",
    "b = int(b)\n",
    "print(a, \"+\", b, \"=\", a+b)\n",
    "print(a, \"-\", b, \"=\", a-b)\n",
    "print(a, \"*\", b, \"=\", a*b)\n",
    "print(a, \"/\", b, \"=\", a/b)\n",
    "print(a, \"%\", b, \"=\", a%b)"
   ]
  },
  {
   "cell_type": "code",
   "execution_count": 41,
   "metadata": {},
   "outputs": [
    {
     "name": "stdout",
     "output_type": "stream",
     "text": [
      "Enter two integers: 70 91\n",
      "The sum of 70 and 91 is 161\n",
      "The average of numbers is 80.5\n"
     ]
    }
   ],
   "source": [
    "#문제 6\n",
    "numbers = input('Enter two integers: ')\n",
    "a, b = numbers.split( )\n",
    "a = int(a)\n",
    "b = int(b)\n",
    "print(\"The sum of\", a, \"and\",b, \"is\", a+b)\n",
    "print(\"The average of numbers is\", (a+b)/2)"
   ]
  }
 ],
 "metadata": {
  "kernelspec": {
   "display_name": "Python 3",
   "language": "python",
   "name": "python3"
  },
  "language_info": {
   "codemirror_mode": {
    "name": "ipython",
    "version": 3
   },
   "file_extension": ".py",
   "mimetype": "text/x-python",
   "name": "python",
   "nbconvert_exporter": "python",
   "pygments_lexer": "ipython3",
   "version": "3.7.4"
  }
 },
 "nbformat": 4,
 "nbformat_minor": 2
}
