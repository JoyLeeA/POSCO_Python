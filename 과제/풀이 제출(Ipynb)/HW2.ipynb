{
 "cells": [
  {
   "cell_type": "code",
   "execution_count": 1,
   "metadata": {},
   "outputs": [
    {
     "name": "stdout",
     "output_type": "stream",
     "text": [
      "한 문장을 입력하시오: Python is fun!\n",
      "['P', 'y', 't', 'h', 'o', 'n', ' ', 'i', 's', ' ', 'f', 'u', 'n', '!']\n"
     ]
    }
   ],
   "source": [
    "#1일차의 2.문자열 - 4 join split 미사용\n",
    "a = input(\"한 문장을 입력하시오: \")\n",
    "print(list(a))"
   ]
  },
  {
   "cell_type": "code",
   "execution_count": 2,
   "metadata": {},
   "outputs": [
    {
     "name": "stdout",
     "output_type": "stream",
     "text": [
      "한 문장을 입력하시오: Python is fun!\n",
      "['P', 'y', 't', 'h', 'o', 'n', ' ', 'i', 's', ' ', 'f', 'u', 'n', '!']\n"
     ]
    }
   ],
   "source": [
    "#1일차의 2.문자열 - 4 join split 사용\n",
    "sentence = input(\"한 문장을 입력하시오: \")\n",
    "b1 = \"/\".join(sentence)\n",
    "b2 = b1.split(\"/\")\n",
    "print(b2)"
   ]
  },
  {
   "cell_type": "code",
   "execution_count": 5,
   "metadata": {},
   "outputs": [
    {
     "name": "stdout",
     "output_type": "stream",
     "text": [
      "날짜(연/월/일)입력2020/01/13\n",
      "입력한 날짜의 10년 후는 2030 년 01 월 13 일\n"
     ]
    }
   ],
   "source": [
    "#1일차의 2.문자열 - 7\n",
    "date = input('날짜(연/월/일)입력')\n",
    "d, e, f = date.split('/')\n",
    "print(\"입력한 날짜의 10년 후는\", int(d)+10, \"년\", e, \"월\", f,\"일\")"
   ]
  },
  {
   "cell_type": "code",
   "execution_count": 6,
   "metadata": {},
   "outputs": [
    {
     "name": "stdout",
     "output_type": "stream",
     "text": [
      "Enter a nubmer: 7\n",
      "7 is Odd number\n"
     ]
    }
   ],
   "source": [
    "#1.조건문 - 문제 1\n",
    "number = input(\"Enter a nubmer: \")\n",
    "number = int(number)\n",
    "if number%2==0:\n",
    "    print(number,\"is Even number\")\n",
    "else:\n",
    "    print(number, \"is Odd number\")"
   ]
  },
  {
   "cell_type": "code",
   "execution_count": 7,
   "metadata": {},
   "outputs": [
    {
     "name": "stdout",
     "output_type": "stream",
     "text": [
      "Enter your midterm score: 77\n",
      "Enter your final score: 56\n",
      "Average:  66.5\n",
      "Grade: D\n"
     ]
    }
   ],
   "source": [
    "#1.조건문 - 문제 2\n",
    "a = int(input(\"Enter your midterm score: \"))\n",
    "b = int(input(\"Enter your final score: \" ))\n",
    "average = (a + b) / 2\n",
    "print(\"Average: \", average)\n",
    "if average >= 90:\n",
    "    print(\"Grade: A\")\n",
    "elif average >=80:\n",
    "    print(\"Grade: B\")\n",
    "elif average >=70:\n",
    "    print(\"Grade: C\")\n",
    "elif average >=60:\n",
    "    print(\"Grade: D\")\n",
    "else:\n",
    "    print(\"Grade: F\")"
   ]
  },
  {
   "cell_type": "code",
   "execution_count": 8,
   "metadata": {},
   "outputs": [
    {
     "name": "stdout",
     "output_type": "stream",
     "text": [
      "영어 점수 입력: 35\n",
      "수학 점수 입력: 95\n",
      "불합격: 영어 점수 부족\n"
     ]
    }
   ],
   "source": [
    "#1.조건문 - 문제 3\n",
    "a = int(input(\"영어 점수 입력: \"))\n",
    "b = int(input(\"수학 점수 입력: \" ))\n",
    "if a+b >= 110:\n",
    "    if a>= 40 and b>=40:\n",
    "        print(\"합격\")\n",
    "    elif a<40:\n",
    "        print(\"불합격: 영어 점수 부족\")\n",
    "    elif b<40:\n",
    "        print(\"불합격: 수학 점수 부족\")\n",
    "else:\n",
    "    print(\"불합격: 총합 점수 부족\")"
   ]
  },
  {
   "cell_type": "code",
   "execution_count": 9,
   "metadata": {},
   "outputs": [
    {
     "name": "stdout",
     "output_type": "stream",
     "text": [
      "세 개의 수를 입력하시오: 30 22 50\n",
      "가장 큰 수는 50 입니다\n"
     ]
    }
   ],
   "source": [
    "#1.조건문 - 문제 4\n",
    "a1 = input(\"세 개의 수를 입력하시오: \")\n",
    "a, b, c = a1.split( )\n",
    "a, b, c = int(a), int(b), int(c)\n",
    "\n",
    "if a > b:\n",
    "    if a > c:\n",
    "        print(\"가장 큰 수는\", a, \"입니다\")\n",
    "if b > a:\n",
    "    if b > c:\n",
    "        print(\"가장 큰 수는\", b, \"입니다\")\n",
    "else:\n",
    "    print(\"가장 큰 수는\", c, \"입니다\")"
   ]
  },
  {
   "cell_type": "code",
   "execution_count": 10,
   "metadata": {},
   "outputs": [
    {
     "name": "stdout",
     "output_type": "stream",
     "text": [
      "P\n",
      "y\n",
      "t\n",
      "h\n",
      "o\n",
      "n\n"
     ]
    }
   ],
   "source": [
    "#2.반복문 - 문제 1-1\n",
    "word = 'Python'\n",
    "words = list(word)\n",
    "i=0\n",
    "while i<6:\n",
    "    print(word[i])\n",
    "    i +=1"
   ]
  },
  {
   "cell_type": "code",
   "execution_count": 11,
   "metadata": {},
   "outputs": [
    {
     "name": "stdout",
     "output_type": "stream",
     "text": [
      "P\n",
      "y\n",
      "t\n",
      "h\n",
      "o\n",
      "n\n"
     ]
    }
   ],
   "source": [
    "#2.반복문 - 문제 1-2\n",
    "word = 'Python'\n",
    "words = list(word)\n",
    "for x in words:\n",
    "    print(x)"
   ]
  },
  {
   "cell_type": "code",
   "execution_count": 25,
   "metadata": {},
   "outputs": [
    {
     "name": "stdout",
     "output_type": "stream",
     "text": [
      "10,9,8,7,6,5,4,3,2,1,Happy new year!!\n"
     ]
    }
   ],
   "source": [
    "#2.반복문 - 문제 2\n",
    "for a in range(10, 0, -1):\n",
    "    print(a, end=',')\n",
    "print(\" Happy new year!!\")"
   ]
  },
  {
   "cell_type": "code",
   "execution_count": 26,
   "metadata": {},
   "outputs": [
    {
     "name": "stdout",
     "output_type": "stream",
     "text": [
      "enter two integers: 5 10\n",
      "The sum from 5 to 10 is 45\n"
     ]
    }
   ],
   "source": [
    "#2.반복문 - 문제 3\n",
    "nums = input(\"enter two integers: \")\n",
    "a, b = nums.split( )\n",
    "a = int(a)\n",
    "b = int(b)\n",
    "sum = 0\n",
    "for i in range(a,b+1,1):\n",
    "    sum += i\n",
    "print(\"The sum from\", a ,\"to\", b, \"is\", sum)"
   ]
  },
  {
   "cell_type": "code",
   "execution_count": 31,
   "metadata": {},
   "outputs": [
    {
     "name": "stdout",
     "output_type": "stream",
     "text": [
      "문자 a의 개수: 3\n"
     ]
    }
   ],
   "source": [
    "#2.반복문 - 문제 4\n",
    "word = 'banana'\n",
    "i = 0\n",
    "for x in word:\n",
    "    if x=='a':\n",
    "        i = i + 1\n",
    "print(\"문자 a의 개수:\", i)"
   ]
  },
  {
   "cell_type": "code",
   "execution_count": 40,
   "metadata": {},
   "outputs": [
    {
     "name": "stdout",
     "output_type": "stream",
     "text": [
      "0 1 2 3 4 5 6 7 8 9 \n",
      "0 5 10 15 20 25 30 35 40 45 50 \n",
      "10 9 8 7 6 5 4 3 2 1 "
     ]
    }
   ],
   "source": [
    "#2.반복문 - 문제 5\n",
    "for x in range(0,10,1):\n",
    "    print(x, end=\" \")\n",
    "print(\"\")\n",
    "for x in range(0,51,5):\n",
    "    print(x, end=\" \")\n",
    "print(\"\")\n",
    "for x in range(10,0,-1):\n",
    "    print(x, end=\" \")"
   ]
  },
  {
   "cell_type": "code",
   "execution_count": 41,
   "metadata": {},
   "outputs": [
    {
     "name": "stdout",
     "output_type": "stream",
     "text": [
      "red\n",
      "green\n",
      "blue\n"
     ]
    }
   ],
   "source": [
    "#2.반복문 - 문제 6\n",
    "colors = [\"red\", \"green\", 'blue']\n",
    "for x in colors:\n",
    "    print(x)"
   ]
  },
  {
   "cell_type": "code",
   "execution_count": 56,
   "metadata": {},
   "outputs": [
    {
     "name": "stdout",
     "output_type": "stream",
     "text": [
      "4 6 8 10 12 "
     ]
    }
   ],
   "source": [
    "#2.반복문 - 문제 7\n",
    "a = [1,3,4,5,6,7,8,9,10,11,12,13]\n",
    "for x in a:\n",
    "    if x%2==0:\n",
    "        print(x, end = ' ')"
   ]
  },
  {
   "cell_type": "code",
   "execution_count": 57,
   "metadata": {},
   "outputs": [
    {
     "name": "stdout",
     "output_type": "stream",
     "text": [
      "출력하고 싶은 단을 입력하세요: 7\n",
      "7  *  1  =  7\n",
      "7  *  2  =  14\n",
      "7  *  3  =  21\n",
      "7  *  4  =  28\n",
      "7  *  5  =  35\n",
      "7  *  6  =  42\n",
      "7  *  7  =  49\n",
      "7  *  8  =  56\n",
      "7  *  9  =  63\n"
     ]
    }
   ],
   "source": [
    "#2.반복문 - 문제 8\n",
    "a = int(input(\"출력하고 싶은 단을 입력하세요: \"))\n",
    "for x in range(1,10):\n",
    "    print(a, \" * \" , x , \" = \", a*x)"
   ]
  },
  {
   "cell_type": "code",
   "execution_count": 58,
   "metadata": {},
   "outputs": [
    {
     "name": "stdout",
     "output_type": "stream",
     "text": [
      "   == 2 단==\n",
      "2  *  1  =  2\n",
      "2  *  2  =  4\n",
      "2  *  3  =  6\n",
      "2  *  4  =  8\n",
      "2  *  5  =  10\n",
      "2  *  6  =  12\n",
      "2  *  7  =  14\n",
      "2  *  8  =  16\n",
      "2  *  9  =  18\n",
      "   == 3 단==\n",
      "3  *  1  =  3\n",
      "3  *  2  =  6\n",
      "3  *  3  =  9\n",
      "3  *  4  =  12\n",
      "3  *  5  =  15\n",
      "3  *  6  =  18\n",
      "3  *  7  =  21\n",
      "3  *  8  =  24\n",
      "3  *  9  =  27\n",
      "   == 4 단==\n",
      "4  *  1  =  4\n",
      "4  *  2  =  8\n",
      "4  *  3  =  12\n",
      "4  *  4  =  16\n",
      "4  *  5  =  20\n",
      "4  *  6  =  24\n",
      "4  *  7  =  28\n",
      "4  *  8  =  32\n",
      "4  *  9  =  36\n",
      "   == 5 단==\n",
      "5  *  1  =  5\n",
      "5  *  2  =  10\n",
      "5  *  3  =  15\n",
      "5  *  4  =  20\n",
      "5  *  5  =  25\n",
      "5  *  6  =  30\n",
      "5  *  7  =  35\n",
      "5  *  8  =  40\n",
      "5  *  9  =  45\n",
      "   == 6 단==\n",
      "6  *  1  =  6\n",
      "6  *  2  =  12\n",
      "6  *  3  =  18\n",
      "6  *  4  =  24\n",
      "6  *  5  =  30\n",
      "6  *  6  =  36\n",
      "6  *  7  =  42\n",
      "6  *  8  =  48\n",
      "6  *  9  =  54\n",
      "   == 7 단==\n",
      "7  *  1  =  7\n",
      "7  *  2  =  14\n",
      "7  *  3  =  21\n",
      "7  *  4  =  28\n",
      "7  *  5  =  35\n",
      "7  *  6  =  42\n",
      "7  *  7  =  49\n",
      "7  *  8  =  56\n",
      "7  *  9  =  63\n",
      "   == 8 단==\n",
      "8  *  1  =  8\n",
      "8  *  2  =  16\n",
      "8  *  3  =  24\n",
      "8  *  4  =  32\n",
      "8  *  5  =  40\n",
      "8  *  6  =  48\n",
      "8  *  7  =  56\n",
      "8  *  8  =  64\n",
      "8  *  9  =  72\n",
      "   == 9 단==\n",
      "9  *  1  =  9\n",
      "9  *  2  =  18\n",
      "9  *  3  =  27\n",
      "9  *  4  =  36\n",
      "9  *  5  =  45\n",
      "9  *  6  =  54\n",
      "9  *  7  =  63\n",
      "9  *  8  =  72\n",
      "9  *  9  =  81\n"
     ]
    }
   ],
   "source": [
    "#2.반복문 - 문제 9\n",
    "for i in range(2,10):\n",
    "    print(\"   ==\", i, \"단==\")\n",
    "    for k in range(1,10):\n",
    "        print(i, \" * \" , k , \" = \", i*k)"
   ]
  },
  {
   "cell_type": "code",
   "execution_count": 59,
   "metadata": {},
   "outputs": [
    {
     "name": "stdout",
     "output_type": "stream",
     "text": [
      "\n",
      "\n",
      "2 * 1 = 2 3 * 1 = 3 4 * 1 = 4 5 * 1 = 5 6 * 1 = 6 7 * 1 = 7 8 * 1 = 8 9 * 1 = 9 \n",
      "\n",
      "2 * 2 = 4 3 * 2 = 6 4 * 2 = 8 5 * 2 = 10 6 * 2 = 12 7 * 2 = 14 8 * 2 = 16 9 * 2 = 18 \n",
      "\n",
      "2 * 3 = 6 3 * 3 = 9 4 * 3 = 12 5 * 3 = 15 6 * 3 = 18 7 * 3 = 21 8 * 3 = 24 9 * 3 = 27 \n",
      "\n",
      "2 * 4 = 8 3 * 4 = 12 4 * 4 = 16 5 * 4 = 20 6 * 4 = 24 7 * 4 = 28 8 * 4 = 32 9 * 4 = 36 \n",
      "\n",
      "2 * 5 = 10 3 * 5 = 15 4 * 5 = 20 5 * 5 = 25 6 * 5 = 30 7 * 5 = 35 8 * 5 = 40 9 * 5 = 45 \n",
      "\n",
      "2 * 6 = 12 3 * 6 = 18 4 * 6 = 24 5 * 6 = 30 6 * 6 = 36 7 * 6 = 42 8 * 6 = 48 9 * 6 = 54 \n",
      "\n",
      "2 * 7 = 14 3 * 7 = 21 4 * 7 = 28 5 * 7 = 35 6 * 7 = 42 7 * 7 = 49 8 * 7 = 56 9 * 7 = 63 \n",
      "\n",
      "2 * 8 = 16 3 * 8 = 24 4 * 8 = 32 5 * 8 = 40 6 * 8 = 48 7 * 8 = 56 8 * 8 = 64 9 * 8 = 72 \n",
      "\n",
      "2 * 9 = 18 3 * 9 = 27 4 * 9 = 36 5 * 9 = 45 6 * 9 = 54 7 * 9 = 63 8 * 9 = 72 9 * 9 = 81 "
     ]
    }
   ],
   "source": [
    "#2.반복문 - 문제 10\n",
    "for i in range(1,10):\n",
    "    print(\"\\n\")\n",
    "    for k in range(2,10):\n",
    "        print(k, \"*\" , i , \"=\", i*k, end= \" \")"
   ]
  },
  {
   "cell_type": "code",
   "execution_count": 67,
   "metadata": {},
   "outputs": [
    {
     "name": "stdout",
     "output_type": "stream",
     "text": [
      "word 1 sally\n",
      "word 2 goes\n",
      "word 3 to\n",
      "word 4 the\n",
      "word 5 store.\n"
     ]
    }
   ],
   "source": [
    "#2.반복문 - 문제 11\n",
    "sentence = \"sally goes to the store.\"\n",
    "arr = sentence.split(' ')\n",
    "i = 1\n",
    "for x in arr:\n",
    "    print(\"word\",i, x)\n",
    "    i += 1\n"
   ]
  },
  {
   "cell_type": "code",
   "execution_count": 68,
   "metadata": {},
   "outputs": [
    {
     "name": "stdout",
     "output_type": "stream",
     "text": [
      "input an Integer: 3159\n",
      "\n",
      "☆☆☆\n",
      "☆\n",
      "☆☆☆☆☆\n",
      "☆☆☆☆☆☆☆☆☆"
     ]
    }
   ],
   "source": [
    "#2.반복문 - 문제 12\n",
    "num = input(\"input an Integer: \")\n",
    "\n",
    "for x in num:\n",
    "    print(\"\")\n",
    "    for y in range(int(x)):\n",
    "        print(\"☆\", end = '')"
   ]
  },
  {
   "cell_type": "code",
   "execution_count": 69,
   "metadata": {},
   "outputs": [
    {
     "name": "stdout",
     "output_type": "stream",
     "text": [
      "Enter a number: 7\n",
      "Enter a number: 2\n",
      "Enter a number: 9\n",
      "Enter a number: 3\n",
      "Enter a number: 5\n",
      "Enter a number: done\n",
      "\n",
      "\n",
      "[7.0, 2.0, 9.0, 3.0, 5.0]\n",
      "Average: 5.2\n",
      "Maximum:  9.0\n",
      "Minimum 2.0\n"
     ]
    }
   ],
   "source": [
    "#2.반복문 - 문제 13\n",
    "b = []\n",
    "while 1:\n",
    "    a = input(\"Enter a number: \")\n",
    "    if a == 'done':\n",
    "        break\n",
    "    else:\n",
    "        b.append(a)\n",
    "print(\"\\n\")\n",
    "b = list(map(float,b))\n",
    "print(b)\n",
    "sum = 0\n",
    "length = len(b)\n",
    "for x in b:\n",
    "    sum = sum + x\n",
    "print(\"Average:\", sum/length)\n",
    "print(\"Maximum: \", max(b))\n",
    "print(\"Minimum\", min(b))"
   ]
  },
  {
   "cell_type": "code",
   "execution_count": 70,
   "metadata": {},
   "outputs": [
    {
     "data": {
      "text/plain": [
       "[2020, 1, 13]"
      ]
     },
     "execution_count": 70,
     "metadata": {},
     "output_type": "execute_result"
    }
   ],
   "source": [
    "#리스트 관련 함수 추가\n",
    "before = ['2020','01','13']\n",
    "after = list(map(int, before))\n",
    "after"
   ]
  }
 ],
 "metadata": {
  "kernelspec": {
   "display_name": "Python 3",
   "language": "python",
   "name": "python3"
  },
  "language_info": {
   "codemirror_mode": {
    "name": "ipython",
    "version": 3
   },
   "file_extension": ".py",
   "mimetype": "text/x-python",
   "name": "python",
   "nbconvert_exporter": "python",
   "pygments_lexer": "ipython3",
   "version": "3.7.4"
  }
 },
 "nbformat": 4,
 "nbformat_minor": 2
}
