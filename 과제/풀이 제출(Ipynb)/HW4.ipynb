{
 "cells": [
  {
   "cell_type": "code",
   "execution_count": 66,
   "metadata": {},
   "outputs": [
    {
     "name": "stdout",
     "output_type": "stream",
     "text": [
      "13는 소수입니다.\n",
      "15는 소수가 아닙니다.\n"
     ]
    }
   ],
   "source": [
    "#과제 1 - prime.py\n",
    "def check_prime(num):\n",
    "    a = []\n",
    "    if num != 1:\n",
    "        for x in range(2, num):\n",
    "            if num % x == 0:\n",
    "                return False\n",
    "    else:\n",
    "        return False\n",
    "    \n",
    "    return True\n",
    "\n",
    "def main():\n",
    "    a = 13\n",
    "    b = 15\n",
    "    if check_prime(a):\n",
    "        print(str(a)+'는 소수입니다.')\n",
    "    else:\n",
    "        print(str(a)+'는 소수가 아닙니다.')\n",
    "        \n",
    "    if check_prime(b):\n",
    "        print(str(b)+'는 소수입니다.')\n",
    "    else:\n",
    "        print(str(b)+'는 소수가 아닙니다.')\n",
    "\n",
    "if __name__=='__main__':\n",
    "    main()"
   ]
  },
  {
   "cell_type": "code",
   "execution_count": 10,
   "metadata": {},
   "outputs": [
    {
     "name": "stdout",
     "output_type": "stream",
     "text": [
      "1,234\n",
      "12,345,678\n",
      "12\n"
     ]
    }
   ],
   "source": [
    "#과제 2 - add_comma.py\n",
    "def add_comma(val):\n",
    "    a = format(val,',')\n",
    "    return a\n",
    "\n",
    "def main():\n",
    "    comma_added_1234 = add_comma(1234)\n",
    "    comma_added_12345678 = add_comma(12345678)\n",
    "    comma_added_12 = add_comma(12)\n",
    "    print(comma_added_1234)\n",
    "    print(comma_added_12345678)\n",
    "    print(comma_added_12)\n",
    "\n",
    "if __name__=='__main__':\n",
    "    main()"
   ]
  },
  {
   "cell_type": "code",
   "execution_count": 46,
   "metadata": {},
   "outputs": [
    {
     "name": "stdout",
     "output_type": "stream",
     "text": [
      "['There', 'was', 'a', 'farmer', 'who', 'had', 'a', 'dog', '.']\n",
      "['There was', 'was a', 'a farmer', 'farmer who', 'who had', 'had a', 'a dog', 'dog .']\n"
     ]
    }
   ],
   "source": [
    "#과제 3 - tok.py\n",
    "def tokenize(trg, N=1):\n",
    "    a= trg.split()\n",
    "    b= []\n",
    "    for x in range(len(a)):\n",
    "        c = a[x]\n",
    "        for y in range(x+1,x+N):\n",
    "            c += \" \" + a[y]\n",
    "        b.append(c)\n",
    "        if x+N == len(a):\n",
    "            break        \n",
    "    return b\n",
    "        \n",
    "def main():\n",
    "    a=\"There was a farmer who had a dog .\"\n",
    "    print(tokenize(a))\n",
    "    print(tokenize(a,2))\n",
    "if __name__=='__main__':\n",
    "    main()"
   ]
  },
  {
   "cell_type": "code",
   "execution_count": 47,
   "metadata": {},
   "outputs": [
    {
     "name": "stdout",
     "output_type": "stream",
     "text": [
      "평균: (0.5, 0.5) 분산: (0.16666666666666666, 0.16666666666666666)\n"
     ]
    }
   ],
   "source": [
    "#과제 4 - mean_and_var.py\n",
    "def mean(*val):\n",
    "    hap=0\n",
    "    cnt=0\n",
    "    for x in val:\n",
    "        hap += x\n",
    "        cnt += 1\n",
    "    result = hap/cnt\n",
    "    return result\n",
    "\n",
    "def var(*val):\n",
    "    temp = 0\n",
    "    temp2 = 0\n",
    "    cnt = 0\n",
    "    for x in val:\n",
    "        temp3 = (x-avr(*val))\n",
    "        temp = temp3**2\n",
    "        temp2 += temp\n",
    "        cnt +=1\n",
    "    result = temp2/cnt\n",
    "    return result\n",
    "\n",
    "def mean_and_var(*val):\n",
    "    x_mean = mean(*val[0])\n",
    "    y_mean = mean(*val[1])\n",
    "    x_var = var(*val[0])\n",
    "    y_var = var(*val[1])\n",
    "    return ((x_mean,y_mean),(x_var,y_var))\n",
    "\n",
    "def main():\n",
    "    v1=(0,0.5,1)\n",
    "    v2=(1,0.5,0)\n",
    "    \n",
    "    m,var = mean_and_var(v1, v2)\n",
    "    print('평균:', m, '분산:', var)\n",
    "\n",
    "if __name__=='__main__':\n",
    "    main()"
   ]
  },
  {
   "cell_type": "code",
   "execution_count": 3,
   "metadata": {},
   "outputs": [
    {
     "name": "stdout",
     "output_type": "stream",
     "text": [
      "[1, 2, 3, 4]\n",
      "[2, 3]\n",
      "[1]\n"
     ]
    }
   ],
   "source": [
    "#과제 1 - set.py\n",
    "class Set:\n",
    "    def __init__(self, member=[]):\n",
    "        self.member=member\n",
    "        for x in member:\n",
    "            for y in range(1,member.count(x)):\n",
    "                self.member.remove(x)\n",
    "        \n",
    "    def append(self, a):\n",
    "        if self not in self.member:\n",
    "            self.member.append(a)\n",
    "        else:\n",
    "            pass\n",
    "        \n",
    "    def delete(self, a):\n",
    "        self.member.remove(a)\n",
    "        \n",
    "    def union(self, s2):\n",
    "        return Set(self.member + s2.member)\n",
    "        \n",
    "    def intersection(self, s2):\n",
    "#         return Set([x for x in self.member for y in s2.member if x==y])\n",
    "        ret = []\n",
    "        for x in self.member :\n",
    "            for y in s2.member : \n",
    "                if x == y : \n",
    "                    ret.append(x)\n",
    "        return Set(ret)\n",
    "    def difference(self, s2):\n",
    "#         return Set([x for x in self.member if not s2.member.count(x)])\n",
    "        ret = []\n",
    "        for x in self.member : \n",
    "            if not s2.member.count(x) :\n",
    "                ret.append(x)\n",
    "        return Set(ret)\n",
    "    \n",
    "    def __add__(self, s2):\n",
    "        return self.union(s2)\n",
    "    def __sub__(self, s2):\n",
    "        return self.intersection(s2)    \n",
    "    def __truediv__(self, s2):\n",
    "        return self.difference(s2)\n",
    "    def __repr__(self):\n",
    "        return str(self.member)\n",
    "\n",
    "def main():\n",
    "    a = Set([1,2,3])\n",
    "    b = Set([2,3,4])\n",
    "\n",
    "    c = a + b\n",
    "    print(c)\n",
    "\n",
    "    d = a - b\n",
    "    print(d)\n",
    "\n",
    "    e = a / b\n",
    "    print(e)\n",
    "\n",
    "if __name__=='__main__':\n",
    "    main()"
   ]
  },
  {
   "cell_type": "code",
   "execution_count": 70,
   "metadata": {},
   "outputs": [
    {
     "name": "stdout",
     "output_type": "stream",
     "text": [
      "제 이름은 Kim ,나이는 30 ,학과는 Computer ,지도교수님은 Lee 입니다.\n",
      "제 이름은 Lee ,나이는 22 ,학과는 Computer ,지도교수님은 Lee 입니다.\n",
      "제 이름은 Lee ,나이는 55 ,학과는 Computer ,지도학생은Kim, Lee입니다\n"
     ]
    }
   ],
   "source": [
    "#문제 2\n",
    "class Person:\n",
    "    name = 'Lee'\n",
    "    age = 20\n",
    "    department = 'Computer'\n",
    "    \n",
    "    def __init__(self, name='Lee', age=20, department='Computer'):\n",
    "        self.name = name\n",
    "        self.age = age\n",
    "        self.department = department\n",
    "    def get_name(name):\n",
    "        self.name = name\n",
    "\n",
    "class Student(Person):\n",
    "    def __init__(self, name='Lee', age=20, department='Computer', ID=1120, GPA=3.0, advisor=[]):\n",
    "        Person.__init__(self, name=name, age=age,department=department)\n",
    "        self.ID = ID\n",
    "        self.GPA = GPA\n",
    "        self.advisor = advisor\n",
    "    def print_info(self):\n",
    "        print(\"제 이름은\", self.name, \",나이는\", self.age, \",학과는\", self.department, \",지도교수님은\", self.advisor.name, \"입니다.\")\n",
    "    def reg_advisor(self, advisor):\n",
    "        self.advisor = advisor\n",
    "\n",
    "class Professor(Person):\n",
    "    def __init__(self, name='Lee', age=20, department='Computer', position=\"학관\", laboratory=\"신공학관\", student=[]):\n",
    "        Person.__init__(self, name=name, age=age,department=department)\n",
    "        self.position = position\n",
    "        self.laboratory = laboratory\n",
    "        self.student = []\n",
    "    def print_info(self):\n",
    "        print(\"제 이름은\", self.name, \",나이는\", self.age, \",학과는\", self.department, \",지도학생은\",end = '')\n",
    "        for i in range(len(self.student)) : \n",
    "            print(self.student[i].name,end = '')\n",
    "            if i != len(self.student) -1: \n",
    "                print(', ',end = '')\n",
    "        print('입니다')\n",
    "    def reg_student(self, student):\n",
    "        self.student.append(student)\n",
    "\n",
    "def main():\n",
    "    stu1 = Student('Kim', 30 ,'Computer', '20001234', 4.5)\n",
    "    stu2 = Student('Lee', 22, 'Computer', 20101234, 0.5)\n",
    "    prof1 = Professor('Lee', 55, 'Computer', 'Full', 'KLE')\n",
    "\n",
    "    stu1.reg_advisor(prof1)\n",
    "    stu2.reg_advisor(prof1)\n",
    "    prof1.reg_student(stu1)\n",
    "    prof1.reg_student(stu2)\n",
    "    stu1.print_info()\n",
    "    stu2.print_info()\n",
    "    prof1.print_info()\n",
    "\n",
    "if __name__=='__main__':\n",
    "    main()"
   ]
  }
 ],
 "metadata": {
  "kernelspec": {
   "display_name": "Python 3",
   "language": "python",
   "name": "python3"
  },
  "language_info": {
   "codemirror_mode": {
    "name": "ipython",
    "version": 3
   },
   "file_extension": ".py",
   "mimetype": "text/x-python",
   "name": "python",
   "nbconvert_exporter": "python",
   "pygments_lexer": "ipython3",
   "version": "3.7.4"
  }
 },
 "nbformat": 4,
 "nbformat_minor": 2
}
