{
 "cells": [
  {
   "cell_type": "code",
   "execution_count": 1,
   "metadata": {},
   "outputs": [
    {
     "name": "stdout",
     "output_type": "stream",
     "text": [
      "0\n",
      "0\n",
      "0\n",
      "1\n"
     ]
    }
   ],
   "source": [
    "#과제 3 - and_op.py\n",
    "import numpy as np\n",
    "x1 = np.array([0,0])\n",
    "x2 = np.array([0,1])\n",
    "x3 = np.array([1,0])\n",
    "x4 = np.array([1,1])\n",
    "\n",
    "def and_op(x):\n",
    "    W = np.array([[2,2],[8,8]])\n",
    "    b = np.array([16,8])\n",
    "    a = W.dot(x) + b\n",
    "    result = np.argmax(a)\n",
    "    return result\n",
    "\n",
    "def main():\n",
    "    print(and_op(x1))\n",
    "    print(and_op(x2))\n",
    "    print(and_op(x3))\n",
    "    print(and_op(x4))\n",
    "\n",
    "if __name__=='__main__':\n",
    "    main()"
   ]
  }
 ],
 "metadata": {
  "kernelspec": {
   "display_name": "Python 3",
   "language": "python",
   "name": "python3"
  },
  "language_info": {
   "codemirror_mode": {
    "name": "ipython",
    "version": 3
   },
   "file_extension": ".py",
   "mimetype": "text/x-python",
   "name": "python",
   "nbconvert_exporter": "python",
   "pygments_lexer": "ipython3",
   "version": "3.7.6"
  }
 },
 "nbformat": 4,
 "nbformat_minor": 2
}
